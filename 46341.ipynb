{
 "cells": [
  {
   "cell_type": "markdown",
   "metadata": {},
   "source": [
    "Machine Learning project for Python Class: A neural network distinguishing cats and dogs\n",
    "Creators: Michał Kloska, Jakub Zapaśnik, Daniel Lilla"
   ]
  },
  {
   "cell_type": "code",
   "execution_count": 2,
   "metadata": {},
   "outputs": [],
   "source": [
    "import numpy as np\n",
    "import pandas as pd\n",
    "import matplotlib.pyplot as plt\n",
    "\n",
    "from sklearn.model_selection import train_test_split"
   ]
  },
  {
   "cell_type": "code",
   "execution_count": 3,
   "metadata": {},
   "outputs": [],
   "source": [
    "from keras.preprocessing.image import load_img, img_to_array"
   ]
  },
  {
   "cell_type": "code",
   "execution_count": 4,
   "metadata": {},
   "outputs": [
    {
     "data": {
      "text/plain": [
       "['cat.0.jpg', 'cat.1.jpg', 'cat.10.jpg']"
      ]
     },
     "execution_count": 4,
     "metadata": {},
     "output_type": "execute_result"
    }
   ],
   "source": [
    "#loading file names\n",
    "import os\n",
    "\n",
    "img_dir = r'C:\\Users\\Miszel\\Desktop\\train'\n",
    "images = os.listdir(img_dir)\n",
    "images[:3]"
   ]
  },
  {
   "cell_type": "code",
   "execution_count": 5,
   "metadata": {},
   "outputs": [],
   "source": [
    "full_images = [os.path.join(img_dir, img) for img in images]"
   ]
  },
  {
   "cell_type": "code",
   "execution_count": 6,
   "metadata": {},
   "outputs": [
    {
     "data": {
      "text/plain": [
       "['C:\\\\Users\\\\Miszel\\\\Desktop\\\\train\\\\cat.0.jpg',\n",
       " 'C:\\\\Users\\\\Miszel\\\\Desktop\\\\train\\\\cat.1.jpg',\n",
       " 'C:\\\\Users\\\\Miszel\\\\Desktop\\\\train\\\\cat.10.jpg']"
      ]
     },
     "execution_count": 6,
     "metadata": {},
     "output_type": "execute_result"
    }
   ],
   "source": [
    "full_images[:3]"
   ]
  },
  {
   "cell_type": "code",
   "execution_count": 7,
   "metadata": {},
   "outputs": [],
   "source": [
    "#creating RGB layers for the model to detect colours\n",
    "def show_rgb_layers(image, subplots_args=dict()):\n",
    "    '''\n",
    "    Show RGB layers of the image on separate axes.\n",
    "    '''\n",
    "    \n",
    "    im_shape = image.shape\n",
    "    \n",
    "#     check if the loaded image has 3 dimensions\n",
    "    assert image.ndim == 3\n",
    "#     check whether the last dimension of im_shape has 3 dimensions\n",
    "    assert im_shape[-1] == 3\n",
    "    \n",
    "#     plot rgb layers\n",
    "    fig, ax = plt.subplots(ncols=3)\n",
    "    for idx, layer in enumerate(['Reds', 'Greens', 'Blues']):\n",
    "        ax[idx].imshow(image[:, :, idx], cmap=layer)\n",
    "    \n",
    "    return fig"
   ]
  },
  {
   "cell_type": "code",
   "execution_count": 8,
   "metadata": {},
   "outputs": [
    {
     "ename": "ModuleNotFoundError",
     "evalue": "No module named 'imports_for_ML'",
     "output_type": "error",
     "traceback": [
      "\u001b[1;31m---------------------------------------------------------------------------\u001b[0m",
      "\u001b[1;31mModuleNotFoundError\u001b[0m                       Traceback (most recent call last)",
      "\u001b[1;32mg:\\My Drive\\My Uni\\Koźmin\\Semester_2\\Intro_python\\Python_Proj\\ML_Python_Proj\\46341.ipynb Cell 8'\u001b[0m in \u001b[0;36m<cell line: 1>\u001b[1;34m()\u001b[0m\n\u001b[1;32m----> <a href='vscode-notebook-cell:/g%3A/My%20Drive/My%20Uni/Ko%C5%BAmin/Semester_2/Intro_python/Python_Proj/ML_Python_Proj/46341.ipynb#ch0000010?line=0'>1</a>\u001b[0m \u001b[39mfrom\u001b[39;00m \u001b[39mimports_for_ML\u001b[39;00m \u001b[39mimport\u001b[39;00m load_images\n\u001b[0;32m      <a href='vscode-notebook-cell:/g%3A/My%20Drive/My%20Uni/Ko%C5%BAmin/Semester_2/Intro_python/Python_Proj/ML_Python_Proj/46341.ipynb#ch0000010?line=2'>3</a>\u001b[0m X, y \u001b[39m=\u001b[39m load_images(img_dir, n_images\u001b[39m=\u001b[39m\u001b[39m10000\u001b[39m, resize\u001b[39m=\u001b[39m(\u001b[39m50\u001b[39m, \u001b[39m50\u001b[39m))\n",
      "\u001b[1;31mModuleNotFoundError\u001b[0m: No module named 'imports_for_ML'"
     ]
    }
   ],
   "source": [
    "from imports_for_ML import load_images\n",
    "\n",
    "X, y = load_images(img_dir, n_images=10000, resize=(50, 50))"
   ]
  },
  {
   "cell_type": "code",
   "execution_count": null,
   "metadata": {},
   "outputs": [],
   "source": []
  }
 ],
 "metadata": {
  "interpreter": {
   "hash": "80ac323e3fcbfee57cc1ed1aa83fe338a4a7393383bda3d1c717a6b065ea8eb2"
  },
  "kernelspec": {
   "display_name": "Python 3.9.7 ('keras')",
   "language": "python",
   "name": "python3"
  },
  "language_info": {
   "codemirror_mode": {
    "name": "ipython",
    "version": 3
   },
   "file_extension": ".py",
   "mimetype": "text/x-python",
   "name": "python",
   "nbconvert_exporter": "python",
   "pygments_lexer": "ipython3",
   "version": "3.9.7"
  },
  "orig_nbformat": 4
 },
 "nbformat": 4,
 "nbformat_minor": 2
}
