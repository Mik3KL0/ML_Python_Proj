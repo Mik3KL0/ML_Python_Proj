{
 "cells": [
  {
   "cell_type": "markdown",
   "metadata": {},
   "source": [
    "# <div style=\"text-align: center\"> Introduction to Python\n",
    "\n",
    "## <div style=\"text-align: center\">Machine Learning in Python (VI) - Neural Networks"
   ]
  },
  {
   "cell_type": "markdown",
   "metadata": {},
   "source": [
    "![logo](data:image/jpeg;base64,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)"
   ]
  },
  {
   "cell_type": "markdown",
   "metadata": {},
   "source": [
    "---"
   ]
  },
  {
   "cell_type": "code",
   "execution_count": 1,
   "metadata": {},
   "outputs": [],
   "source": [
    "import numpy as np\n",
    "import pandas as pd\n",
    "import matplotlib.pyplot as plt\n",
    "\n",
    "from sklearn.model_selection import train_test_split"
   ]
  },
  {
   "cell_type": "markdown",
   "metadata": {},
   "source": [
    "\n",
    "# Image analysis\n",
    "\n",
    "Neural networks are very often used for image or sound analysis. Normal sequential networks with connections all-to-all are used for:\n",
    "- convolutional neural networks, **CNN**, which are used for image analysis\n",
    "- recurrent neural networks, **RNN**, which are used for sound analysis\n",
    "\n",
    "Most often the fun with convolutional networks and image analysis starts with recognizing numbers. However, we will do something a little more interesting / funny - we will play with recognizing whether there is a dog or cat in the picture.  \n",
    "You will find the data you need for this here: https://www.kaggle.com/c/dogs-vs-cats-redux-kernels-edition  \n",
    "<br><br>\n",
    "On the `data` tab of this page there are two downloadable `train.zip` and `test.zip` files. Just download the `train.zip` and then extract to the folder where this notebook is located to the `cats_vs_dogs` folder, the subfolder `train`."
   ]
  },
  {
   "cell_type": "code",
   "execution_count": 2,
   "metadata": {},
   "outputs": [],
   "source": [
    "from keras.preprocessing.image import load_img, img_to_array"
   ]
  },
  {
   "cell_type": "markdown",
   "metadata": {},
   "source": [
    "We load the names of image files:"
   ]
  },
  {
   "cell_type": "code",
   "execution_count": 3,
   "metadata": {},
   "outputs": [
    {
     "data": {
      "text/plain": [
       "['cat.0.jpg', 'cat.1.jpg', 'cat.10.jpg']"
      ]
     },
     "execution_count": 3,
     "metadata": {},
     "output_type": "execute_result"
    }
   ],
   "source": [
    "import os\n",
    "\n",
    "img_dir = r'C:\\Users\\Miszel\\Desktop\\Class_09_Neural Networks\\train'\n",
    "images = os.listdir(img_dir)\n",
    "images[:3]"
   ]
  },
  {
   "cell_type": "code",
   "execution_count": 4,
   "metadata": {},
   "outputs": [],
   "source": [
    "full_images = [os.path.join(img_dir, img) for img in images]"
   ]
  },
  {
   "cell_type": "code",
   "execution_count": 5,
   "metadata": {},
   "outputs": [
    {
     "data": {
      "text/plain": [
       "['C:\\\\Users\\\\Miszel\\\\Desktop\\\\Class_09_Neural Networks\\\\train\\\\cat.0.jpg',\n",
       " 'C:\\\\Users\\\\Miszel\\\\Desktop\\\\Class_09_Neural Networks\\\\train\\\\cat.1.jpg',\n",
       " 'C:\\\\Users\\\\Miszel\\\\Desktop\\\\Class_09_Neural Networks\\\\train\\\\cat.10.jpg']"
      ]
     },
     "execution_count": 5,
     "metadata": {},
     "output_type": "execute_result"
    }
   ],
   "source": [
    "full_images[:3]"
   ]
  },
  {
   "cell_type": "markdown",
   "metadata": {},
   "source": [
    "We'll create a function for showing rgb layers"
   ]
  },
  {
   "cell_type": "code",
   "execution_count": 6,
   "metadata": {},
   "outputs": [],
   "source": [
    "def show_rgb_layers(image, subplots_args=dict()):\n",
    "    '''\n",
    "    Show RGB layers of the image on separate axes.\n",
    "    '''\n",
    "    \n",
    "    im_shape = image.shape\n",
    "    \n",
    "#     check if the loaded image has 3 dimensions\n",
    "    assert image.ndim == 3\n",
    "#     check whether the last dimension of im_shape has 3 dimensions\n",
    "    assert im_shape[-1] == 3\n",
    "    \n",
    "#     plot rgb layers\n",
    "    fig, ax = plt.subplots(ncols=3)\n",
    "    for idx, layer in enumerate(['Reds', 'Greens', 'Blues']):\n",
    "        ax[idx].imshow(image[:, :, idx], cmap=layer)\n",
    "    \n",
    "    return fig"
   ]
  },
  {
   "cell_type": "markdown",
   "metadata": {},
   "source": [
    "## We're loading images\n",
    "We load 10000 images, 5000 each per category (training on all would take too long)."
   ]
  },
  {
   "cell_type": "code",
   "execution_count": 7,
   "metadata": {},
   "outputs": [
    {
     "name": "stdout",
     "output_type": "stream",
     "text": [
      "**************************************************\n",
      "**************************************************\n",
      "**************************************************\n",
      "**************************************************\n",
      "**************************************************\n",
      "**************************************************\n",
      "**************************************************\n",
      "**************************************************\n",
      "**************************************************\n",
      "**************************************************\n"
     ]
    }
   ],
   "source": [
    "from imports_for_ML import load_images\n",
    "\n",
    "X, y = load_images(img_dir, n_images=10000, resize=(50, 50))"
   ]
  },
  {
   "cell_type": "code",
   "execution_count": 8,
   "metadata": {},
   "outputs": [
    {
     "data": {
      "text/plain": [
       "(10000, 50, 50, 3)"
      ]
     },
     "execution_count": 8,
     "metadata": {},
     "output_type": "execute_result"
    }
   ],
   "source": [
    "X.shape"
   ]
  },
  {
   "cell_type": "code",
   "execution_count": 9,
   "metadata": {},
   "outputs": [],
   "source": [
    "from keras.models import Sequential\n",
    "from keras.layers import Dense\n",
    "\n",
    "from keras.layers import Conv2D, MaxPooling2D, Flatten\n",
    "\n",
    "from keras.models import load_model"
   ]
  },
  {
   "cell_type": "code",
   "execution_count": 10,
   "metadata": {},
   "outputs": [],
   "source": [
    "X_train, X_test, y_train, y_test = train_test_split(X, y, test_size=0.1, random_state=23)"
   ]
  },
  {
   "cell_type": "code",
   "execution_count": 11,
   "metadata": {},
   "outputs": [],
   "source": [
    "model = load_model((r'C:\\Users\\Miszel\\Desktop\\Class_09_Neural Networks\\cats_dogs_model'))"
   ]
  },
  {
   "cell_type": "code",
   "execution_count": 12,
   "metadata": {},
   "outputs": [
    {
     "name": "stdout",
     "output_type": "stream",
     "text": [
      "Model: \"sequential_6\"\n",
      "_________________________________________________________________\n",
      " Layer (type)                Output Shape              Param #   \n",
      "=================================================================\n",
      " conv2d_24 (Conv2D)          (None, 48, 48, 16)        448       \n",
      "                                                                 \n",
      " conv2d_25 (Conv2D)          (None, 46, 46, 16)        2320      \n",
      "                                                                 \n",
      " max_pooling2d_12 (MaxPoolin  (None, 15, 15, 16)       0         \n",
      " g2D)                                                            \n",
      "                                                                 \n",
      " conv2d_26 (Conv2D)          (None, 13, 13, 32)        4640      \n",
      "                                                                 \n",
      " conv2d_27 (Conv2D)          (None, 11, 11, 32)        9248      \n",
      "                                                                 \n",
      " max_pooling2d_13 (MaxPoolin  (None, 5, 5, 32)         0         \n",
      " g2D)                                                            \n",
      "                                                                 \n",
      " flatten_6 (Flatten)         (None, 800)               0         \n",
      "                                                                 \n",
      " dense_12 (Dense)            (None, 64)                51264     \n",
      "                                                                 \n",
      " dense_13 (Dense)            (None, 1)                 65        \n",
      "                                                                 \n",
      "=================================================================\n",
      "Total params: 67,985\n",
      "Trainable params: 67,985\n",
      "Non-trainable params: 0\n",
      "_________________________________________________________________\n"
     ]
    }
   ],
   "source": [
    "model.summary()"
   ]
  },
  {
   "cell_type": "code",
   "execution_count": 13,
   "metadata": {},
   "outputs": [
    {
     "name": "stdout",
     "output_type": "stream",
     "text": [
      "Accuracy on the training data:\n",
      "282/282 [==============================] - 2s 6ms/step - loss: 0.8428 - accuracy: 0.7983\n",
      "0.7983333468437195\n",
      "\n",
      "Accuracy on the test data:\n",
      "32/32 [==============================] - 0s 6ms/step - loss: 0.8158 - accuracy: 0.8020\n",
      "0.8019999861717224\n"
     ]
    }
   ],
   "source": [
    "# plt.plot(history.history['acc'])\n",
    "# plt.ylabel('Accuracy')\n",
    "\n",
    "print('Accuracy on the training data:')\n",
    "print(model.evaluate(X_train, y_train)[1])\n",
    "\n",
    "print('\\nAccuracy on the test data:')\n",
    "print(model.evaluate(X_test, y_test)[1])"
   ]
  },
  {
   "cell_type": "markdown",
   "metadata": {},
   "source": [
    "The correctness of the test data is significantly higher than 50%, so the model has learned something. In the case above we also see that the correctness on the test data is not very different from the correctness on the training data.  \n",
    "Therefore we will try to train the network further. To make the work easier this time we will separate 4% of the training data (i.e. 0.04 * 9000, i.e. 360 pictures) into an independent validation set - on this set of pictures we do not teach the network, but use it on an ongoing basis to monitor the correctness of the network on independent data during the training. When the correctness of this independent data stops improving - the trening will be stopped.\n",
    "* To be able to stop the trening earlier, we import `EarlyStopping` and create a `stop_early` by setting the `patience` from `EarlyStopping` to `2` (i.e., the trening will be stopped if we don't get better validation data for two consecutive epochs.\n",
    "* Then set the `validation_split` in the `model.fit` to the appropriate value.\n",
    "* Add stop_early as a callback, set the callbacks argument in the model.fit. `callbacks` always takes the list, so if you only give one callback, make sure to put it in the list (i.e., instead of `some_callback` you give `[some_callback]`."
   ]
  },
  {
   "cell_type": "markdown",
   "metadata": {},
   "source": [
    "<div class=\"alert alert-block alert-success\">\n",
    "⚠️TASK 1 (1 min)\n",
    "<br>\n",
    "\n",
    "Using the information above, please finish the code below:\n",
    "\n",
    "</div>"
   ]
  },
  {
   "cell_type": "code",
   "execution_count": 14,
   "metadata": {},
   "outputs": [],
   "source": [
    "from keras.callbacks import EarlyStopping\n",
    "\n",
    "stop_early = EarlyStopping(patience = 2)"
   ]
  },
  {
   "cell_type": "code",
   "execution_count": 16,
   "metadata": {},
   "outputs": [
    {
     "name": "stdout",
     "output_type": "stream",
     "text": [
      "Epoch 1/30\n",
      "270/270 [==============================] - 9s 31ms/step - loss: 0.4113 - accuracy: 0.8179 - val_loss: 0.3562 - val_accuracy: 0.8389\n",
      "Epoch 2/30\n",
      "270/270 [==============================] - 8s 31ms/step - loss: 0.3367 - accuracy: 0.8566 - val_loss: 0.3841 - val_accuracy: 0.8083\n",
      "Epoch 3/30\n",
      "270/270 [==============================] - 8s 30ms/step - loss: 0.2893 - accuracy: 0.8806 - val_loss: 0.4064 - val_accuracy: 0.8306\n"
     ]
    }
   ],
   "source": [
    "history = model.fit(X_train, y_train, epochs = 30, validation_split = 0.04, callbacks = [stop_early])"
   ]
  },
  {
   "cell_type": "markdown",
   "metadata": {},
   "source": [
    "The training was interrupted because the correctness on the validation data stopped growing."
   ]
  },
  {
   "cell_type": "markdown",
   "metadata": {},
   "source": [
    "<div class=\"alert alert-block alert-success\">\n",
    "⚠️TASK 2 (2 min)\n",
    "<br>\n",
    "\n",
    "Let's see how our model works now. First, as before, we will evaluate the correctness on the test and training data:\n",
    "\n",
    "</div>"
   ]
  },
  {
   "cell_type": "code",
   "execution_count": 17,
   "metadata": {},
   "outputs": [
    {
     "name": "stdout",
     "output_type": "stream",
     "text": [
      "Accuracy on the training data:\n",
      "282/282 [==============================] - 2s 6ms/step - loss: 0.2340 - accuracy: 0.9078\n",
      "0.9077777862548828\n",
      "Accuracy on the test data:\n",
      "32/32 [==============================] - 0s 6ms/step - loss: 0.4788 - accuracy: 0.7960\n",
      "0.7960000038146973\n"
     ]
    }
   ],
   "source": [
    "print('Accuracy on the training data:')\n",
    "print(model.evaluate(X_train, y_train)[1])\n",
    "\n",
    "print('Accuracy on the test data:')\n",
    "print(model.evaluate(X_test, y_test)[1])"
   ]
  },
  {
   "cell_type": "markdown",
   "metadata": {},
   "source": [
    "Please note that further training has improved the model on training data, but not on test data.\n",
    "This is a symptom that the network has started to overfit - later on we will try to prevent this by adding a regulation to the network.  \n",
    "Before we move on to this step, let's check a few examples that the network recognizes correctly, and a few that are not recognized correctly:"
   ]
  },
  {
   "cell_type": "code",
   "execution_count": 18,
   "metadata": {},
   "outputs": [],
   "source": [
    "# let's take the first 25 test photos:\n",
    "test_sample = X_test[:25]\n",
    "predictions = model.predict(test_sample)\n",
    "true_labels = y_test[:25]"
   ]
  },
  {
   "cell_type": "code",
   "execution_count": 19,
   "metadata": {},
   "outputs": [
    {
     "name": "stderr",
     "output_type": "stream",
     "text": [
      "C:\\Users\\Miszel\\AppData\\Local\\Temp\\ipykernel_4700\\1890394427.py:11: DeprecationWarning: In future, it will be an error for 'np.bool_' scalars to be interpreted as an index\n",
      "  plt.title(text.format(net_claims * 100., it_is_really, ['is wrong', 'is right'][is_net_correct]))\n"
     ]
    },
    {
     "data": {
      "text/plain": [
       "(-0.5, 49.5, 49.5, -0.5)"
      ]
     },
     "execution_count": 19,
     "metadata": {},
     "output_type": "execute_result"
    },
    {
     "data": {
      "image/png": "[encoded data removed]",
      "text/plain": [
       "<Figure size 432x288 with 1 Axes>"
      ]
     },
     "metadata": {
      "needs_background": "light"
     },
     "output_type": "display_data"
    }
   ],
   "source": [
    "check_idx = 9\n",
    "plt.imshow(test_sample[check_idx] / 255)\n",
    "\n",
    "\n",
    "text = 'The network is: {:.2f}% sure it is a dog,\\nbut really it is a {}, so the network {}'\n",
    "correct_response = true_labels[check_idx]\n",
    "it_is_really = ['cat', 'dog'][correct_response]\n",
    "net_claims = predictions[check_idx, 0]\n",
    "is_net_correct = np.abs(net_claims - correct_response) < 0.5\n",
    "\n",
    "plt.title(text.format(net_claims * 100., it_is_really, ['is wrong', 'is right'][is_net_correct]))\n",
    "plt.axis('off')"
   ]
  },
  {
   "cell_type": "markdown",
   "metadata": {},
   "source": [
    "## What has our network learned?"
   ]
  },
  {
   "cell_type": "markdown",
   "metadata": {},
   "source": [
    "We will now visualize some first layer filters that the network has learned."
   ]
  },
  {
   "cell_type": "markdown",
   "metadata": {},
   "source": [
    "First let's display the filter weights of the first network layer. Our neural network, present in the `model` variable, has a `layers` method, where we can find all network layers:"
   ]
  },
  {
   "cell_type": "code",
   "execution_count": 22,
   "metadata": {},
   "outputs": [
    {
     "data": {
      "text/plain": [
       "[<keras.layers.convolutional.Conv2D at 0x27fb6776250>,\n",
       " <keras.layers.convolutional.Conv2D at 0x27fbc6c5460>,\n",
       " <keras.layers.pooling.MaxPooling2D at 0x27fc25ea9a0>,\n",
       " <keras.layers.convolutional.Conv2D at 0x27fc366d7f0>,\n",
       " <keras.layers.convolutional.Conv2D at 0x27fc366f4f0>,\n",
       " <keras.layers.pooling.MaxPooling2D at 0x27fc367bbe0>,\n",
       " <keras.layers.core.flatten.Flatten at 0x27fc366ff40>,\n",
       " <keras.layers.core.dense.Dense at 0x27fac742820>,\n",
       " <keras.layers.core.dense.Dense at 0x27fac748820>]"
      ]
     },
     "execution_count": 22,
     "metadata": {},
     "output_type": "execute_result"
    }
   ],
   "source": [
    "model.layers"
   ]
  },
  {
   "cell_type": "markdown",
   "metadata": {},
   "source": [
    "<div class=\"alert alert-block alert-success\">\n",
    "⚠️TASK 3 (3 min)\n",
    "<br>\n",
    "\n",
    "To find the weights of the first layer filters we have to:\n",
    "* select this layer from the list (usual indexing)\n",
    "* use the `get_weights()` method on the result (without arguments)\n",
    "* `get_weights` returns a list of two elements: filter weights, and the resting value of the filters. Therefore, we will select the first element - the filter weights.\n",
    "\n",
    "</div>"
   ]
  },
  {
   "cell_type": "code",
   "execution_count": 21,
   "metadata": {},
   "outputs": [
    {
     "data": {
      "text/plain": [
       "(3, 3, 3, 16)"
      ]
     },
     "execution_count": 21,
     "metadata": {},
     "output_type": "execute_result"
    }
   ],
   "source": [
    "weights= model.layers[0].get_weights()[0]\n",
    "\n",
    "weights.shape"
   ]
  },
  {
   "cell_type": "markdown",
   "metadata": {},
   "source": [
    "The weights should be `3 x 3 x 3 x 16` (*Height* x *Width* x *Depth (RGB)* x *Number of filters*):"
   ]
  },
  {
   "cell_type": "code",
   "execution_count": null,
   "metadata": {},
   "outputs": [],
   "source": []
  },
  {
   "cell_type": "code",
   "execution_count": null,
   "metadata": {},
   "outputs": [],
   "source": []
  },
  {
   "cell_type": "code",
   "execution_count": null,
   "metadata": {},
   "outputs": [],
   "source": [
    "fig, ax = plt.subplots(nrows=4, ncols=4)\n",
    "ax = ax.ravel()\n",
    "\n",
    "for idx in range(len(ax)):\n",
    "    # you have to give a dimension that we average, remember that single\n",
    "    # filter has dimensions: height to width on RGB\n",
    "    average_weights = weights[..., idx].mean(axis=2)\n",
    "    ax[idx].imshow(average_weights)\n",
    "    ax[idx].axis('off')"
   ]
  },
  {
   "cell_type": "markdown",
   "metadata": {},
   "source": [
    "## Network regularization\n",
    "We will now try to improve network performance through regularization. We are building the whole network as before, but we add:\n",
    "* `Dropout` to one of the last layers.\n",
    "* `BatchNormalization` between convoluted layers (`Conv2d`)  \n",
    "\n",
    "Dropout is a simple way of regularization - from time to time some neurons are randomly removed from a given layer. This leads to much slower learning, but prevents neurons or combinations of neurons from remembering specific training examples (and, therefore, overfitting!).  \n",
    "`Dropout(0.25)` leads to the ejection of 25% of the neurons at each training stage. In our case, we want to discard 50% of the neurons during training.  \n",
    "`BatchNormalization` is a method of normalizing data going from one layer to the next, which usually improves the learning of the network, in this case by giving `BatchNormalization()` to `model.add()` (normalization is something like standardization)."
   ]
  },
  {
   "cell_type": "markdown",
   "metadata": {},
   "source": [
    "<div class=\"alert alert-block alert-success\">\n",
    "⚠️TASK 4 (6 min)\n",
    "<br>\n",
    "\n",
    "Import Dropout and BatchNormalization from `keras.layers`, and then create the modified network.\n",
    "\n",
    "</div>"
   ]
  },
  {
   "cell_type": "code",
   "execution_count": 20,
   "metadata": {},
   "outputs": [],
   "source": [
    "from keras.layers import Dropout, BatchNormalization"
   ]
  },
  {
   "cell_type": "code",
   "execution_count": 23,
   "metadata": {},
   "outputs": [],
   "source": [
    "model = Sequential([\n",
    "\n",
    "# we create two convolution layers, then max pooling\n",
    "Conv2D(16,(3,3), activation = 'relu'),\n",
    "Conv2D(16,(3,3), activation = 'relu'),\n",
    "MaxPooling2D((3,3)),\n",
    "\n",
    "# we create next two convolution layers, then max pooling\n",
    "Conv2D(32,(3,3), activation = 'relu'),\n",
    "Conv2D(32,(3,3), activation = 'relu'),\n",
    "MaxPooling2D((2,2)),\n",
    "BatchNormalization(),\n",
    "\n",
    "# finally, we flatten all the filters to one vector and then add 64 ordinary neurons\n",
    "Flatten( input_shape = (5, 5,32)),\n",
    "Dense(64, activation = 'relu'),\n",
    "    \n",
    "#Dropout\n",
    "Dropout(0.5),\n",
    "\n",
    "# and the output neuron that says dog (1) or cat (0)\n",
    "Dense(1, activation='sigmoid')\n",
    "\n",
    "# and compile, like always before\n",
    "])\n",
    "model.compile(loss = 'binary_crossentropy', optimizer = 'adam', metrics = ['accuracy'])"
   ]
  },
  {
   "cell_type": "markdown",
   "metadata": {},
   "source": [
    "Regularization leads to a much slower learning pace, so this time we will be training for more epochs - at least 20. We also use, as before, 4% of the data for validation and we want the training to end if there is no improvement for four epochs (this time four - because training will be much more difficult for the network with regularization).  \n",
    "The training will take some time, so patience..."
   ]
  },
  {
   "cell_type": "markdown",
   "metadata": {},
   "source": [
    "<div class=\"alert alert-block alert-success\">\n",
    "⚠️TASK 5 (2 min)\n",
    "<br>\n",
    "\n",
    "Fill out the code below and run the cells.\n",
    "\n",
    "</div>"
   ]
  },
  {
   "cell_type": "code",
   "execution_count": 25,
   "metadata": {},
   "outputs": [
    {
     "name": "stdout",
     "output_type": "stream",
     "text": [
      "Epoch 1/30\n",
      "270/270 [==============================] - 9s 31ms/step - loss: 0.7764 - accuracy: 0.5750 - val_loss: 1.2704 - val_accuracy: 0.5139\n",
      "Epoch 2/30\n",
      "270/270 [==============================] - 8s 30ms/step - loss: 0.6576 - accuracy: 0.6250 - val_loss: 0.7228 - val_accuracy: 0.5944\n",
      "Epoch 3/30\n",
      "270/270 [==============================] - 8s 30ms/step - loss: 0.6323 - accuracy: 0.6366 - val_loss: 0.7294 - val_accuracy: 0.5306\n",
      "Epoch 4/30\n",
      "270/270 [==============================] - 8s 30ms/step - loss: 0.5926 - accuracy: 0.6836 - val_loss: 0.7066 - val_accuracy: 0.5944\n",
      "Epoch 5/30\n",
      "270/270 [==============================] - 8s 30ms/step - loss: 0.5563 - accuracy: 0.7200 - val_loss: 0.7035 - val_accuracy: 0.6639\n",
      "Epoch 6/30\n",
      "270/270 [==============================] - 8s 31ms/step - loss: 0.5255 - accuracy: 0.7378 - val_loss: 0.5688 - val_accuracy: 0.7194\n",
      "Epoch 7/30\n",
      "270/270 [==============================] - 8s 30ms/step - loss: 0.4849 - accuracy: 0.7690 - val_loss: 0.6777 - val_accuracy: 0.6750\n",
      "Epoch 8/30\n",
      "270/270 [==============================] - 8s 30ms/step - loss: 0.4596 - accuracy: 0.7841 - val_loss: 1.0289 - val_accuracy: 0.5861\n",
      "Epoch 9/30\n",
      "270/270 [==============================] - 8s 30ms/step - loss: 0.4338 - accuracy: 0.7973 - val_loss: 0.6422 - val_accuracy: 0.7083\n",
      "Epoch 10/30\n",
      "270/270 [==============================] - 8s 30ms/step - loss: 0.4104 - accuracy: 0.8128 - val_loss: 0.6296 - val_accuracy: 0.7000\n"
     ]
    }
   ],
   "source": [
    "stop_early = EarlyStopping(patience = 4)\n",
    "history = model.fit(X_train, y_train, epochs = 30, validation_split=0.04, callbacks = [stop_early])"
   ]
  },
  {
   "cell_type": "markdown",
   "metadata": {},
   "source": [
    "It can be seen that with the successive epochs the network correctness increases linearly for training data, while for validation data we observe significant variability with a tendency to improve correctness (and cost, i.e. `val_loss`). However, the network does not achieve a higher validation rate than 84% on validation data (we would have to build a bigger network for this). The training ends before the end of 20 epochs because we no longer see any improvement. We can now check the correctness on the test data. But before that - the chart of changes in correctness on training and validation data:"
   ]
  },
  {
   "cell_type": "code",
   "execution_count": 26,
   "metadata": {},
   "outputs": [
    {
     "data": {
      "text/plain": [
       "<matplotlib.legend.Legend at 0x27fee85c1c0>"
      ]
     },
     "execution_count": 26,
     "metadata": {},
     "output_type": "execute_result"
    },
    {
     "data": {
      "image/png": "[encoded data removed]",
      "text/plain": [
       "<Figure size 432x288 with 1 Axes>"
      ]
     },
     "metadata": {
      "needs_background": "light"
     },
     "output_type": "display_data"
    }
   ],
   "source": [
    "plt.plot(history.history['accuracy'], label='training')\n",
    "plt.plot(history.history['val_accuracy'], label='validation')\n",
    "plt.ylabel('Accuracy')\n",
    "plt.legend()"
   ]
  },
  {
   "cell_type": "code",
   "execution_count": 27,
   "metadata": {},
   "outputs": [
    {
     "name": "stdout",
     "output_type": "stream",
     "text": [
      "282/282 [==============================] - 9s 30ms/step - loss: 0.3968 - accuracy: 0.8221\n",
      "32/32 [==============================] - 1s 30ms/step - loss: 0.4853 - accuracy: 0.7560\n"
     ]
    }
   ],
   "source": [
    "train_corr = model.fit(X_train, y_train)\n",
    "\n",
    "test_corr = model.fit(X_test, y_test)"
   ]
  },
  {
   "cell_type": "markdown",
   "metadata": {},
   "source": [
    "Using reguralization, we come to the correctness slightly above 78%, almost 80%. This is a significant improvement, but we are still far from human correctness. However, we have seen that the networks do not understand the picture as we do - a picture that is an incomprehensible noise can convince the net that it has to do with a dog."
   ]
  },
  {
   "cell_type": "markdown",
   "metadata": {},
   "source": [
    "This is still not a model that we would be satisfied with in practice, but for playing on a weak computer it is ok. To have better accuracy, we would also need more data - i.e. all 25,000 photos to be loaded. We could also increase the scaling (currently we are scaling all the photos to 50 by 50 pixels - in this size some photos will be difficult to identify.  \n",
    "Also, with `25,000` photos you actually produce up to half a million photos - by rotating, scaling and cropping the photos (this can be done automatically using `keras.preprocessing.image.ImageDataGenerator`. This number of examples would lead our network to have much better accuracy.  <br><br>\n",
    "Another strategy is to use a network previously trained on millions of photos (there are a lot of such public domain architectures - including some very well known architectures) and stick several hundred neurons to its top layers to classify dog vs. cat. Then the training would take place on such a hybrid network - a large part of it would be frozen, already trained before, and only the final layer (or layers) are trained using the available data. This kind of strategy is called *transfer learning*, it is the last of our struggle with image analysis. We won't take full advantage of *transfer learning* here - and we'll only see how helpful the networks already trained on millions of images are."
   ]
  },
  {
   "cell_type": "markdown",
   "metadata": {},
   "source": [
    "## Transfer learning\n",
    "We will use the ResNet50 network, which together with the weights can be downloaded from the web using the Keras library:"
   ]
  },
  {
   "cell_type": "code",
   "execution_count": 28,
   "metadata": {},
   "outputs": [
    {
     "ename": "ImportError",
     "evalue": "cannot import name 'ResNet50' from 'keras.applications' (C:\\Users\\Miszel\\.conda\\envs\\keras\\lib\\site-packages\\keras\\applications\\__init__.py)",
     "output_type": "error",
     "traceback": [
      "\u001b[1;31m---------------------------------------------------------------------------\u001b[0m",
      "\u001b[1;31mImportError\u001b[0m                               Traceback (most recent call last)",
      "Input \u001b[1;32mIn [28]\u001b[0m, in \u001b[0;36m<cell line: 1>\u001b[1;34m()\u001b[0m\n\u001b[1;32m----> 1\u001b[0m \u001b[38;5;28;01mfrom\u001b[39;00m \u001b[38;5;21;01mkeras\u001b[39;00m\u001b[38;5;21;01m.\u001b[39;00m\u001b[38;5;21;01mapplications\u001b[39;00m \u001b[38;5;28;01mimport\u001b[39;00m ResNet50\n\u001b[0;32m      3\u001b[0m resnet_model \u001b[38;5;241m=\u001b[39m ResNet50()\n",
      "\u001b[1;31mImportError\u001b[0m: cannot import name 'ResNet50' from 'keras.applications' (C:\\Users\\Miszel\\.conda\\envs\\keras\\lib\\site-packages\\keras\\applications\\__init__.py)"
     ]
    }
   ],
   "source": [
    "from keras.applications import ResNet50\n",
    "\n",
    "resnet_model = ResNet50()"
   ]
  },
  {
   "cell_type": "markdown",
   "metadata": {},
   "source": [
    "In my case, the network weights are not downloaded because I downloaded them earlier. It may take 1-8 minutes (depending on the connection speed) to download network scales.  \n",
    "The `ResNet50` network is huge, compared to the several layers of network we trained, let's see a summary:"
   ]
  },
  {
   "cell_type": "code",
   "execution_count": null,
   "metadata": {},
   "outputs": [],
   "source": [
    "resnet_model.summary()"
   ]
  },
  {
   "cell_type": "code",
   "execution_count": null,
   "metadata": {},
   "outputs": [],
   "source": [
    "len(resnet_model.layers)"
   ]
  },
  {
   "cell_type": "markdown",
   "metadata": {},
   "source": [
    "How many parameters does the network have in total (you will find this information at the bottom of the description)? Hint: the number of parameters here is already counted in millions. Such networks are trained on many cores and many GPUs for days (and sometimes weeks) on millions of photos.\n",
    "The network is trained on the basis of `ImageNet`, which has 14 million images, and the task of the network is to identify 1000 different types of objects (including people, cars, animals, food, etc.). Among the animals, the network must not only distinguish between cats and dogs, but also distinguish between several species of dogs and cats. A network trained on this basis is therefore ideal for our task.  \n",
    "However, before we use it, we have to process our photos differently - the `ImageNet` database consists of photos with a different resolution (`224 x 224`). In addition, these images are processed a little differently for `ResNet`. So we have to load the data again."
   ]
  },
  {
   "cell_type": "code",
   "execution_count": null,
   "metadata": {},
   "outputs": [],
   "source": [
    "data_size_MB = X.size * X.itemsize / 1000000\n",
    "print('The data has now: {} MB'.format(data_size_MB))"
   ]
  },
  {
   "cell_type": "code",
   "execution_count": null,
   "metadata": {},
   "outputs": [],
   "source": [
    "X, y = load_images(img_dir, n_images=10000, resize=(224, 224))"
   ]
  },
  {
   "cell_type": "markdown",
   "metadata": {},
   "source": [
    "If you have problems with RAM - you can load accordingly less photos above (for example 5000)."
   ]
  },
  {
   "cell_type": "code",
   "execution_count": null,
   "metadata": {},
   "outputs": [],
   "source": [
    "data_size_MB = X.size * X.itemsize / 1000000\n",
    "print('The data has now: {} MB'.format(data_size_MB))"
   ]
  },
  {
   "cell_type": "code",
   "execution_count": null,
   "metadata": {},
   "outputs": [],
   "source": [
    "X.shape"
   ]
  },
  {
   "cell_type": "code",
   "execution_count": null,
   "metadata": {},
   "outputs": [],
   "source": [
    "X[0, 0, 0]"
   ]
  },
  {
   "cell_type": "markdown",
   "metadata": {},
   "source": [
    "Let's check the network predictions for a few pictures: 1543 and 5623. Let's see these images first:"
   ]
  },
  {
   "cell_type": "markdown",
   "metadata": {},
   "source": [
    "<div class=\"alert alert-block alert-success\">\n",
    "⚠️TASK 6 (4 min)\n",
    "<br>\n",
    "\n",
    "Please visualise dog cat and dog picture numbers 1543 and 5623. How can we access correctly the picture numbers? Check the `images` list - the images are not sorted properly!\n",
    "\n",
    "</div>"
   ]
  },
  {
   "cell_type": "code",
   "execution_count": null,
   "metadata": {},
   "outputs": [],
   "source": []
  },
  {
   "cell_type": "code",
   "execution_count": null,
   "metadata": {},
   "outputs": [],
   "source": []
  },
  {
   "cell_type": "code",
   "execution_count": null,
   "metadata": {},
   "outputs": [],
   "source": []
  },
  {
   "cell_type": "code",
   "execution_count": null,
   "metadata": {},
   "outputs": [],
   "source": []
  },
  {
   "cell_type": "markdown",
   "metadata": {},
   "source": [
    "We will now process the data to match the ResNet50 format:"
   ]
  },
  {
   "cell_type": "code",
   "execution_count": null,
   "metadata": {},
   "outputs": [],
   "source": [
    "from keras.applications.resnet50 import preprocess_input\n",
    "\n",
    "X = preprocess_input(X)"
   ]
  },
  {
   "cell_type": "code",
   "execution_count": null,
   "metadata": {},
   "outputs": [],
   "source": [
    "X[0, 0, 0]"
   ]
  },
  {
   "cell_type": "markdown",
   "metadata": {},
   "source": [
    "Let's see what predictions ResNet gives for these images:"
   ]
  },
  {
   "cell_type": "code",
   "execution_count": null,
   "metadata": {},
   "outputs": [],
   "source": [
    "preds = resnet_model.predict(X)"
   ]
  },
  {
   "cell_type": "markdown",
   "metadata": {},
   "source": [
    "The `preds` is now a matrix of two lines and 1000 columns. Rows are predictions for subsequent images, and columns are categories of predictions (ImageNet is a task in which the network classifies images as belonging to one of 1000 categories)."
   ]
  },
  {
   "cell_type": "markdown",
   "metadata": {},
   "source": [
    "To understand what it means by which category we will use the `decode_predictions` function, giving it a `preds` matrix. We will also ask this function to give class names for only 5 classes with the highest certainty (for each prediction)."
   ]
  },
  {
   "cell_type": "code",
   "execution_count": null,
   "metadata": {},
   "outputs": [],
   "source": [
    "from keras.applications.resnet50 import decode_predictions\n",
    "\n",
    "labels = decode_predictions(preds, top=5)"
   ]
  },
  {
   "cell_type": "markdown",
   "metadata": {},
   "source": [
    "We now have translated the predictions in the `labels` variable. Let's see what predictions the network gave for the first image (cat):"
   ]
  },
  {
   "cell_type": "code",
   "execution_count": null,
   "metadata": {},
   "outputs": [],
   "source": [
    "labels[0]"
   ]
  },
  {
   "cell_type": "code",
   "execution_count": null,
   "metadata": {},
   "outputs": [],
   "source": [
    "labels[1]"
   ]
  },
  {
   "cell_type": "markdown",
   "metadata": {},
   "source": [
    "75% for an American staffordshire terrier, which is the correct answer. We can see that the network is doing quite well in recognizing the animals we are interested in. How do we use it for our purposes? We have two options:\n",
    "* we use the network the way it works now and collect % confidence inside the dog category and inside the cat category and see if the cat or dog has a higher percentage\n",
    "* we cut off the last layer of the net (1000 neurons corresponding to the categories) and stick one (dog vs. cat), then we train the net on our pictures. However, we do not train the whole network, but only the last layer of the net  \n"
   ]
  }
 ],
 "metadata": {
  "kernelspec": {
   "display_name": "Python 3 (ipykernel)",
   "language": "python",
   "name": "python3"
  },
  "language_info": {
   "codemirror_mode": {
    "name": "ipython",
    "version": 3
   },
   "file_extension": ".py",
   "mimetype": "text/x-python",
   "name": "python",
   "nbconvert_exporter": "python",
   "pygments_lexer": "ipython3",
   "version": "3.9.7"
  }
 },
 "nbformat": 4,
 "nbformat_minor": 2
}
