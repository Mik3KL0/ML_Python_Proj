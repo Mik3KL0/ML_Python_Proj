{
 "cells": [
  {
   "cell_type": "markdown",
   "metadata": {},
   "source": [
    "# <div style=\"text-align: center\"> Introduction to Python and Machine Learning\n",
    "\n",
    "## <div style=\"text-align: center\">Machine Learning in Python (III) - Neural Networks"
   ]
  },
  {
   "cell_type": "markdown",
   "metadata": {},
   "source": [
    "![logo](data:image/jpeg;base64,/9j/4AAQSkZJRgABAQAAAQABAAD/2wCEAAkGBwgHBhUSBw8QDxMVEBYQFhgREBUYERYTFxUYFhUWGBYYHSggJB0lGxUVITEtMTUtOi8uFyszODUtNzQtLjABCgoKDg0OGxAQGzAlIB81LS01Ly8tLS0tKy0tLSstLy0tKy8tKy0tMC0tLS0tLS8tLS0tLS0tLS0tLy0rLS0tLf/AABEIAGsB1wMBEQACEQEDEQH/xAAcAAEAAgMBAQEAAAAAAAAAAAAABQYDBAcBCAL/xAA/EAACAQMCBAMGAQkGBwAAAAAAAQIDBBEFEgYTITFBUWEHFCJxkaGBJDJCUnKTseHwM0RjktHSFSM0Q2Jzgv/EABoBAQADAQEBAAAAAAAAAAAAAAADBAUCAQb/xAAxEQEAAgECAwQIBwEBAAAAAAAAAQIDBBESITEFQXGREyIyQlFhgfAVUqGxwdHhFEP/2gAMAwEAAhEDEQA/AO4gAAAAAAAAAAAAAAAAAAAAAAAAAAAAAAAAAAAAAAAAAAAAAAAAAAAAAAAAAAAAAAAAAAAAAAAAAAAAAAAAAAAAAAAAAAAAAAAAAAAAAAAAAAAAAAAAAAAAAAAAAAAAAAAAAAAAAAAAAAAAAAAAAAAAAAAAAAAAAAAAAAAAAAAwXd5a2VLdeVIUo+dSaivqz2tZtO0Q5tetY3tOyAuuOdCoPFOpOq/8OnJr8JSxF/UtU0Oa3dspZO0tNT3t/BHz9oln/wBq3rP9pwX8GyeOzMnfMfqp27cwx0rP6PyvaHRf92n+8X+h1+F2/NDj8dx/knzZ4ce23LUq1tXjFtpOO1xbXdJtpZI57OvvtFoSR21j24ppbZv2nGmiXDxKpKm/8SEl91lfcivoc9e7fwWMfaumv723im7W7trunutakKkfOElJfVFW1ZrO1o2X6ZK3jes7s547AAAAAAAAAAAAAAAAAAAAAAAAAAAAAAAAAAAAAAAAAAAAAAAAAAAAAAAAANbUL62060lVvpxpwisuUn0X8/Q9rWbTtDm1orG8uZ697Rry9m4aHHkQ7cyaTqy9YxfSK+eX8jWwdnR1yeTG1XakxyxqpOpVuq2+6nOrP9apJyl9WadMdaRtWNmFmz3yTvaWWETtWmVss+BdSuLaM99GO6Kkk3LKTWeuI9zOv2ljrO0RLVp2LmvXim0Ru1dO4fdfiP3W4n+bnfKn5KOem5ebS7EuXVbYPSxHVBp9Bxav0Fp6dZhcr3hGwna/lFa5lGEW0nUjtikvCO3au3kZePW5K23rEc/l9y3s3ZeK1NrWtO3z/jbZzDGUfQvkN+aEqX9xbag6ljUnSknhSpycXheq8CrlrW/KYa+nm2OscM7Lnw37Ubq1kocQR50O3MgkqsfWUV0kvlh/MzM2ijrRr4NfPTI6tYX1rqNrGrY1I1ISWVKLyn/Mz5iYnaWpW0WjeGweOgAAAAAAAAAAAAAAAAAAAAAAAAAAAAAAAAAAAAAAAAAAAAAAAAAAAAAePogOE8a8TVeJNYfLk/d6cnGlHPSWOjqv1fh5L8Te0emjHXeessHX6ibTwx0RdFF9i3luU0eq9ktoek19YveVbuKe1ybk+iisJ9l6og1GeMNOKU+k01tRk4K+LpsKHEMJ/wBrabV+jy54x5ZzkwJnB8J84/p9ZFNVHvV28J/fdDadoN3W1u5qe8OjLmbG6Kz+eo1WlKS6YTgWcmprGKlOHfv5+Xcz8OhyW1GTJx7Tvty+cRPf9ExDQrmFNx9+uZKUXFqpsksNYfdZ+hWtnrPPgjkvRo8kRMeltO/x2/pzhaHd6lUqw0uUMU57N1RtdMtJ9E+uI/c2currjrXi6z8Hzul7OtmyW4fZrO3PvVHW9Mr6RfOldOEpJJvY249Vld0vA8plrkrxQt5cU47cMouozySqx+z/AItq8Nawo1pP3arJRqxb6Rb6KqvJrx818kU9Ri443717S5ppO09JfQS6ozGw9AAAAAAAAAAAAAAAAAAAAAAAAAAAAAAAAAAAAAAAAAAAAAAAAAAAAAEdxE6keH7h0c7vdqrjjvu5csY/E7p7UOb+zL51tUklg+ojo+UyzvKSonSndNaJpdzq94qdosvvJv8ANjHzb/rJDnz1w14rPdPpb6i/DXz+C38N0a+nXlWelWlS5jhUIS3whGbhJ8yTlJ+MksYXZGZqLxkrWMl9u/pP0a+ipbDe1sOObR0id4jp1WOjqus5/KtOnFedO4pSf+VtFS2LFt6uTf6TDRpqdT7+GfpMS0rfUdV3z/4XZcyMq0251KkYrcpbcbc56bcP1R3OPFy9Jfbl02Q1z6jefRY9+c85mI/T5NmGr6zTeLqxz60a9Ntf/M5L+JHbHi92/nCzjy6n/wBMe3hKq8LaHVWlcytcXNOVSc5yjTnBRypOKeVFt9Irxx1JtTn9bbaJ2caTT7U33mN+ape0W0p2urRcZ1Kk6kN03Nx8PgjjbFeEWWNHebVn5KmupFbxz6qdUZYmVWsNWq1jqRTKer6i4cdWXD9u7jO921Jyz33cuOc/iY9ustyvswkTx0AAAAAAAAAAAAAAAAAAAAAAAAAAAAAAAAAAAAAAAAAAAAAAAAAAAAHkkpRxLqn0A4Lxbw3V4c1dxSfJnJypS8NvfY//ACj2+59DpNRGWnzh85rcE47/AClqWMFVrKLkopvq3jovxaLN7cMbsyKcVtnRbbV4aHpbpaZYXUcxf/NqQw5SawptxTT9Opk2wzmvxXyR4NiNTGnxzTFjt4/NKaNxBoej6PSpXFxCMo0o7klJ4k1ukspebZBk0+XLe1qxy3WtPqsGHFWlrc4hKWXE2i6hLFnc0py/V3Yl+EZYZXvgyV9qF2moxX9mYaFHXtM0+xhTvLmjTnsTlF1FuUpfFLK792zqcV7zM1idnFMuPHSK2tDNS1SzvKTlZVqdVJZfLnGWPoyOcdqzHFCaMlLRvWYVW04V0yVjTeoRnOryobm69VYltTailJYSfYsX1OTeYjp4K1NLj4Y4uviq3tDs7WyVHk8xyakszqzniEcdFvb8ZljSZLW33VtbSteHZR5yLNpU6wnuBOFq/FGtxi4vkU5KVaXht78tP9aXb0WWVM+Xhhd0+Gbzu+jopRWF0M5qvQAAAAAAAAAAAAAAAAAAAAAAAAAAAAAAAAAAAAAAAAAAAAAAAAAAAAAA09U0y01WzdK/gpwfg+6fg0+6fqdY72pbirPNxkx1yV4bRycu4h9n+p6bJy0nNzT8ljnRXrHtL8PobODtGtuV+U/owtR2XavOnOP1V7TOINY0G4xbVJww/ipzXwZ8pQfZ/Rk+TDjzRvMfVXxZsmCdq8vl/joVhxro+p6cpahDFTO2VNUZVevmsRfwv1wZWTS5KW2rPL4tjHrMN672jn8Nmld6jwnWfxWNOTz5WtOX3qxZ1WuePf8A3/pzbJp59z9v7aTseF7xt07GtHPX4Lik/tGuzv0mevvR5f449Hp7c+CfOP7YZcO6NGe6hR1Kk/BwWfo0mJz5Z6zEvf8AmxR0i0I260HR1Vcpx1WUs5/6eTef2nTHp8m23q+bz/nx77+t5K9d6TrV5W20qNzKKlLlxqvMlFvouvjhLOCWMuOsdY3RTgy2npO3zWHh32Varf1VLW2rWl4xi1Ku/Rd4x+bz8ivk1UR7KfFo7e87Do+k2Oi2MaOm0404R7Jd2/Fyb6tvzZRtabTvLRrWKxtDdPHQAAAAAAAAAAAAAAAAAAAAAAAAAAAAAAAAAAAAAAAAAAAAAAAAAAAAAAAABo6lpGnapHGoUKdXyc4JyXyl3X4HdMlqezOyO+Kl/ajdWL72ZaDcdbd1qH7FTcvpUTf3LNddljrzVL9nYp6ckPceyaLf5Petft0E/upomjtG3fVDPZcd1ms/ZJcP++w/cP8A3nv4hH5Xn4ZP5mxaeyXlTzUv5L/1UNr+rmyO2u391JTs/b3k9Yez7TrX+3ub6v6Supxj9Ke1/cr2zzbujyWaaeK98z9VnsrG2soYtoKP3k/nJ9WQLERs2Q9AAAAAAAAAAAAAAAAAAAAAAAAAAAAAAAAAAAAAAAAAAAAAAAAAAAAAAA8yAyAyAyAyAyAyebhk9DIDIDIDIDIDIHoAAAAAAAAAAAAAAAAAAAAAAAAAAAAAAAAAAAAAAAAAAAAAAAAAAABD8T072rZwWmNRq86O1uLcY9JdZJeH9YfY7x7b+t0RZeLb1eqBtoWirSWq213sjTjGClSrVcVU5Os80081HJqW/wAU1tfSSXc77cphHG2/rQx16NOvyKerUK25U41K1R29WrVcFJ8qhzKcZLfhLe8vomv0srr4zV5ynaLM1bTL+paVZwq1lTd1Oq6W2W6Uo3GKbi+6puGG4pYe1Ps5KXnFG/T72e8E7Tz72SztdTV46lrzIzg7hqNTcqVWMrys+XLPZuG1xl4dH1i2mtNdtvD9isW6x3b/ALtW2hWdenOVGvKc4VFsqUKqlSTqV5xnGqvgTw0pRfdbcPspeztzj78nMdYn9P8AWazo31PT1G9hVlXdS0lvjGex0I16XwJfoOK3bk+r6yy12TNeLl05vYi0V59eX8Je7uXp+uTqV4VpU52tOEeVRqVFvpzquSxCLw2qkMZ749COsb1iEtp2t9ELYWmrafYzmo1ZyjRo0alJtveo2tJOVLPTfGe/t+d1XfbiSZrMxH31RRFoiZ++j82dHVbWnUrWlOpKrGvTpxhNSSnTq2NpBtZ8I1oxk31wqc13yeerO0T985detEbx98ntzYStLqrCMZTcbXZTlK2rTqyl7vJNxrx+BNyznPVt+qETvET99XkxtMw/FSzr22nSp3UZ5jWhcRjC2r1LWpB0HBU3CGZLrGTaz8M9ssPKT63iZ5eHz6udto5+Py6Nivp7vLOpK4t57vf7ZxUoylKNKXuiqpPxjhTUn26PPicxbaevdP8ALqa7x074/hIVdM5fEVKFupxt5UZ15winyedRlRjRTfhlVJPHi6KfhLPHF6s79UnB63LosZGlAAAAAAAAAAAAAAAAAAAAAAAAAAAAAAAAAAAAAAAAAAAAAAAAAAAADzADADADADADADADADCAYAYAYAYA9AAAAAAAAAAAAAAAAAAAAAAAAAAAAAAAAAAAAAAAAAAAAAAAAAAAAAAAAAAAAAAAAAAAAAAAAAAAAAAAAAAAAAAAAAAAAAAAAAAAAAAAAAAAAAAAAAAAAAAAAAAAAAAAAAAAAAAAAAAAAAAAAAAAAAAAAAAAAAAAAAAAAP/Z)"
   ]
  },
  {
   "cell_type": "markdown",
   "metadata": {},
   "source": [
    "---"
   ]
  },
  {
   "cell_type": "markdown",
   "metadata": {},
   "source": [
    "# Using Anaconda/Miniconda\n",
    "\n",
    "\n",
    "### Creating the environment in anaconda (with a specific Python version):\n",
    "\n",
    "conda create --name keras python=3.9.7 (you can decide which Python version you want depending on the library you use. For keras it will be Python 3.9 which can be found in the documentation)\n",
    "\n",
    "### Activating the environment:\n",
    "\n",
    "conda activate keras\n",
    "\n",
    "### Installing libraries:\n",
    "\n",
    "When you first install the myenv environment then you HAVE to install additional libraries (pandas, seaborn, keras, and jupyter (and others if you need them)\n",
    "\n",
    "conda install pandas seaborn jupyter keras sklearn\n",
    "\n",
    "\n",
    "REMEMBER that you have to activate the environment each time you open terminal or anaconda prompt when you want to work with keras!!!\n",
    "\n",
    "You can check the list of available environments using:\n",
    "\n",
    "conda env list\n",
    "\n",
    "### Activating your environment:\n",
    "conda activate YOUR_ENV_NAME\n",
    "\n",
    "### Set working directory:\n",
    "cd path\n",
    "\n",
    "### Start jupyter notebook:\n",
    "jupyter notebook"
   ]
  },
  {
   "cell_type": "markdown",
   "metadata": {},
   "source": [
    "In order to display the points we use the predefined (by us) `plot_decision` function."
   ]
  },
  {
   "cell_type": "code",
   "execution_count": 141,
   "metadata": {},
   "outputs": [],
   "source": [
    "# the following means \"from imports_for_ML.py import everything\"\n",
    "from imports_for_ML import *\n",
    "\n",
    "%matplotlib inline"
   ]
  },
  {
   "cell_type": "markdown",
   "metadata": {},
   "source": [
    "---"
   ]
  },
  {
   "cell_type": "markdown",
   "metadata": {},
   "source": [
    "# Neural networks algorithms"
   ]
  },
  {
   "cell_type": "markdown",
   "metadata": {},
   "source": [
    "<div class=\"alert alert-block alert-info\">\n",
    "📺 ************* WATCH AT HOME - a WONDERFUL introduction to Artificial Neural Networks *************\n",
    "<br>\n",
    "\n",
    "https://www.3blue1brown.com/neural-networks\n",
    "\n",
    "</div>"
   ]
  },
  {
   "cell_type": "markdown",
   "metadata": {},
   "source": [
    "# Neural networks\n",
    "Our plan:\n",
    "* Introduction to the Keras library.\n",
    "* The simplest neural network, equivalent of logistic regression\n",
    "* Examples of neural network behavior with different number of neurons and layers for simple data with two predictive factors\n",
    "* A neural network implemented on Titanic data\n",
    "\n",
    "Then we will move on to the use of neural networks in image analysis."
   ]
  },
  {
   "cell_type": "markdown",
   "metadata": {},
   "source": [
    "<div class=\"alert alert-block alert-info\">\n",
    "📺 ************* WATCH AT HOME *************\n",
    "<br>\n",
    "\n",
    "[Keras Explained](https://www.youtube.com/watch?v=j_pJmXJwMLA)\n",
    "\n",
    "[Layers in a Neural Network explained](https://www.youtube.com/watch?v=FK77zZxaBoI)\n",
    "\n",
    "</div>"
   ]
  },
  {
   "cell_type": "markdown",
   "metadata": {},
   "source": [
    "<div class=\"alert alert-block alert-info\">\n",
    "📺 ************* WATCH AT HOME *************\n",
    "<br>\n",
    "\n",
    "[Which Activation Function Should I Use? - VERY GOOD VIDEO about RELU!](https://www.youtube.com/watch?v=-7scQpJT7uo)\n",
    "\n",
    "[Activation Functions in a Neural Network explained](https://www.youtube.com/watch?v=m0pIlLfpXWE)\n",
    "\n",
    "</div>"
   ]
  },
  {
   "cell_type": "markdown",
   "metadata": {},
   "source": [
    "`Keras` is the simplest library for neural networks in Python. It is high-level, which means that many details are done automatically, and allows us to focus on the \"big picture\". Keras is known for its well-designed API (programming interface), which makes it very convenient to use. Today we will use a simple sequential network (`Sequential`), for which subsequent layers are connected on a case-by-case basis (`Dense` type connection).  \n",
    "\n",
    "Installing keras (from the `Anaconda Prompt` application): \n",
    "\n",
    "`conda install keras`\n",
    "\n",
    "OR\n",
    "\n",
    "`pip install keras`\n",
    "\n",
    "---\n",
    "\n",
    "We will import the appropriate objects first:"
   ]
  },
  {
   "cell_type": "code",
   "execution_count": 142,
   "metadata": {},
   "outputs": [],
   "source": [
    "from keras.models import Sequential\n",
    "from keras.layers import Dense"
   ]
  },
  {
   "cell_type": "markdown",
   "metadata": {},
   "source": [
    "<div class=\"alert alert-block alert-success\">\n",
    "⚠️TASK 1\n",
    "<br>\n",
    "\n",
    "We will also create an artificial dataset using the `make_moons` function. We would like to create `250` points, with a noise level of `0.25` and a `random_state` as `23` (to get similar results on the n-th run of our function):\n",
    "\n",
    "</div>"
   ]
  },
  {
   "cell_type": "code",
   "execution_count": 143,
   "metadata": {},
   "outputs": [],
   "source": [
    "from sklearn.datasets import make_moons\n",
    "\n",
    "X_moon, y_moon = make_moons(n_samples=250, noise=0.25, random_state=24)"
   ]
  },
  {
   "cell_type": "markdown",
   "metadata": {},
   "source": [
    "We use the `plot_decision` function we already know to display the data we have created:"
   ]
  },
  {
   "cell_type": "code",
   "execution_count": 144,
   "metadata": {},
   "outputs": [
    {
     "data": {
      "image/png": "[encoded data removed]",
      "text/plain": [
       "<Figure size 432x288 with 1 Axes>"
      ]
     },
     "metadata": {
      "needs_background": "light"
     },
     "output_type": "display_data"
    }
   ],
   "source": [
    "plot_decision(X_moon, y_moon)"
   ]
  },
  {
   "cell_type": "code",
   "execution_count": 145,
   "metadata": {
    "scrolled": false
   },
   "outputs": [
    {
     "data": {
      "text/plain": [
       "(250, 2)"
      ]
     },
     "execution_count": 145,
     "metadata": {},
     "output_type": "execute_result"
    }
   ],
   "source": [
    "X_moon.shape"
   ]
  },
  {
   "cell_type": "code",
   "execution_count": 146,
   "metadata": {},
   "outputs": [
    {
     "data": {
      "text/plain": [
       "array([1, 1, 0, 0, 0, 1, 1, 0, 1, 1, 0, 1, 0, 0, 1, 1, 0, 0, 1, 1, 1, 1,\n",
       "       1, 0, 0, 1, 1, 1, 1, 1, 1, 0, 0, 1, 1, 0, 1, 1, 0, 1, 1, 1, 0, 1,\n",
       "       0, 0, 1, 1, 0, 1, 1, 1, 1, 1, 1, 1, 0, 1, 1, 1, 1, 1, 1, 0, 0, 1,\n",
       "       1, 0, 0, 1, 0, 1, 1, 0, 0, 1, 0, 0, 0, 1, 0, 1, 1, 0, 1, 1, 1, 0,\n",
       "       1, 1, 0, 0, 0, 1, 0, 1, 1, 1, 1, 0, 1, 0, 0, 0, 0, 0, 0, 1, 0, 0,\n",
       "       0, 1, 0, 1, 1, 0, 0, 0, 0, 0, 0, 1, 1, 0, 0, 0, 0, 0, 1, 1, 0, 0,\n",
       "       1, 1, 0, 1, 0, 0, 1, 1, 0, 1, 0, 0, 1, 0, 0, 1, 0, 0, 0, 0, 0, 0,\n",
       "       0, 0, 1, 1, 0, 0, 0, 0, 1, 0, 0, 0, 1, 1, 1, 1, 0, 1, 0, 0, 0, 1,\n",
       "       0, 1, 0, 0, 0, 0, 0, 0, 0, 1, 1, 0, 1, 1, 0, 1, 0, 1, 1, 1, 0, 1,\n",
       "       0, 0, 0, 1, 1, 0, 1, 0, 1, 1, 0, 1, 0, 0, 0, 1, 1, 0, 0, 0, 0, 1,\n",
       "       0, 0, 1, 0, 1, 1, 1, 1, 0, 0, 0, 1, 1, 0, 1, 1, 1, 0, 1, 0, 1, 0,\n",
       "       0, 1, 1, 1, 0, 1, 1, 1], dtype=int64)"
      ]
     },
     "execution_count": 146,
     "metadata": {},
     "output_type": "execute_result"
    }
   ],
   "source": [
    "y_moon"
   ]
  },
  {
   "cell_type": "code",
   "execution_count": 147,
   "metadata": {
    "scrolled": true
   },
   "outputs": [
    {
     "data": {
      "text/plain": [
       "(250,)"
      ]
     },
     "execution_count": 147,
     "metadata": {},
     "output_type": "execute_result"
    }
   ],
   "source": [
    "y_moon.shape"
   ]
  },
  {
   "cell_type": "markdown",
   "metadata": {},
   "source": [
    "<div class=\"alert alert-block alert-success\">\n",
    "⚠️TASK 2\n",
    "<br>\n",
    "\n",
    "But this time we will check the correctness on the training and test data. Therefore, we divide the data into test and training data. Let the test data account for 25% of all data.\n",
    "\n",
    "</div>"
   ]
  },
  {
   "cell_type": "code",
   "execution_count": 148,
   "metadata": {},
   "outputs": [],
   "source": [
    "X_moon_train, X_moon_test, y_moon_train, y_moon_test = train_test_split(X_moon, y_moon, test_size=0.25, random_state=23)"
   ]
  },
  {
   "cell_type": "code",
   "execution_count": 149,
   "metadata": {},
   "outputs": [
    {
     "data": {
      "text/plain": [
       "(187, 2)"
      ]
     },
     "execution_count": 149,
     "metadata": {},
     "output_type": "execute_result"
    }
   ],
   "source": [
    "X_moon_train.shape"
   ]
  },
  {
   "cell_type": "markdown",
   "metadata": {},
   "source": [
    "## Creating a network"
   ]
  },
  {
   "cell_type": "markdown",
   "metadata": {},
   "source": [
    "To create a sequential network, we first use `Sequential` - this way we will create an empty space (without layers yet) - to which we will \"stick\" the consequtive layers:"
   ]
  },
  {
   "cell_type": "code",
   "execution_count": 150,
   "metadata": {},
   "outputs": [],
   "source": [
    "model = Sequential()"
   ]
  },
  {
   "cell_type": "markdown",
   "metadata": {},
   "source": [
    "<div class=\"alert alert-block alert-success\">\n",
    "⚠️TASK 3\n",
    "<br>\n",
    "\n",
    "Apply a \"dense\" layer first. (`Dense`) - i.e. one in which each neuron is connected to each other in the previous layer.  \n",
    "* The first argument for the `Dense` is the number of neurons - we want only one neuron for now.\n",
    "* We also want to set the type of activation for the added layer; the activation determines how the neurons transform the incoming signal. Because this one added neuron will also be an output neuron, we want it to have an activation of the `'sigmoid'` type (like a logistic function) - i.e. a minimum value of 0 and a maximum of 1. The activity of this neuron will determine whether the point belongs to the blue group (value zero) or to the orange group (value one).\n",
    "* The neuron added by us is simultaneously the output neuron and the first one adjacent to the data, therefore it needs to know what is the size of this data (`input_shape`). Our data has two predictors (values on the x-axis and values on the y-axis), so we give `input_shape=(2,)` (we give dimensions as a *tuple* type `(2,)`. Because the data could have e.g. height and width as in the case of photos, we would give `(height, width)`). \n",
    "\n",
    "</div>"
   ]
  },
  {
   "cell_type": "code",
   "execution_count": 151,
   "metadata": {},
   "outputs": [],
   "source": [
    "model.add(Dense(1, activation='sigmoid', input_shape=(2,)))"
   ]
  },
  {
   "cell_type": "markdown",
   "metadata": {},
   "source": [
    "To display a summary of the created model, use the `summary` method:"
   ]
  },
  {
   "cell_type": "code",
   "execution_count": 152,
   "metadata": {},
   "outputs": [
    {
     "name": "stdout",
     "output_type": "stream",
     "text": [
      "Model: \"sequential_19\"\n",
      "_________________________________________________________________\n",
      " Layer (type)                Output Shape              Param #   \n",
      "=================================================================\n",
      " dense_50 (Dense)            (None, 1)                 3         \n",
      "                                                                 \n",
      "=================================================================\n",
      "Total params: 3\n",
      "Trainable params: 3\n",
      "Non-trainable params: 0\n",
      "_________________________________________________________________\n"
     ]
    }
   ],
   "source": [
    "model.summary()"
   ]
  },
  {
   "cell_type": "markdown",
   "metadata": {},
   "source": [
    "Our first network is very modest - only 3 parameters."
   ]
  },
  {
   "cell_type": "markdown",
   "metadata": {},
   "source": [
    "Now we want to compile the model, i.e. prepare it to run. When compiling, we specify the cost function (`loss`), the optimization method (`optimizer`). We can also ask for some values to be calculated for the next steps of fitting the model (`metrics`).  \n",
    "* We want the cost function to be `'binary_crossentropy'` (we will always use it for classification problems).\n",
    "* Optimizer is set to `'adam'`, a popular optimization method that often leads to faster network learning.\n",
    "* We also want to calculate the correctness for the next steps of network fit (`['accuracy']`)"
   ]
  },
  {
   "cell_type": "code",
   "execution_count": 153,
   "metadata": {},
   "outputs": [],
   "source": [
    "model.compile(loss='binary_crossentropy', optimizer='adam', metrics=['accuracy'])"
   ]
  },
  {
   "cell_type": "markdown",
   "metadata": {},
   "source": [
    "Now we need to fit the model to the data, we use the familiar method `.fit` - we provide the training data to it: predictors and classifications. We also want to define how long the network is going to learn, most often we define it in the so-called epochs. One epoch is the use of all observations in training. Let us choose `250` epochs. Additionally, we use the `verbose` argument and set it to `0` in order not to clutter the screen with messages about training progress (for such small data the training will be very fast, we do not need information about progress)."
   ]
  },
  {
   "cell_type": "code",
   "execution_count": 154,
   "metadata": {},
   "outputs": [
    {
     "name": "stdout",
     "output_type": "stream",
     "text": [
      "Epoch 1/250\n",
      "6/6 [==============================] - 0s 801us/step - loss: 0.8324 - accuracy: 0.4171\n",
      "Epoch 2/250\n",
      "6/6 [==============================] - 0s 801us/step - loss: 0.8292 - accuracy: 0.4171\n",
      "Epoch 3/250\n",
      "6/6 [==============================] - 0s 601us/step - loss: 0.8260 - accuracy: 0.4171\n",
      "Epoch 4/250\n",
      "6/6 [==============================] - 0s 801us/step - loss: 0.8228 - accuracy: 0.4225\n",
      "Epoch 5/250\n",
      "6/6 [==============================] - 0s 601us/step - loss: 0.8198 - accuracy: 0.4278\n",
      "Epoch 6/250\n",
      "6/6 [==============================] - 0s 801us/step - loss: 0.8167 - accuracy: 0.4332\n",
      "Epoch 7/250\n",
      "6/6 [==============================] - 0s 801us/step - loss: 0.8137 - accuracy: 0.4278\n",
      "Epoch 8/250\n",
      "6/6 [==============================] - 0s 601us/step - loss: 0.8107 - accuracy: 0.4332\n",
      "Epoch 9/250\n",
      "6/6 [==============================] - 0s 801us/step - loss: 0.8078 - accuracy: 0.4439\n",
      "Epoch 10/250\n",
      "6/6 [==============================] - 0s 801us/step - loss: 0.8049 - accuracy: 0.4492\n",
      "Epoch 11/250\n",
      "6/6 [==============================] - 0s 801us/step - loss: 0.8020 - accuracy: 0.4492\n",
      "Epoch 12/250\n",
      "6/6 [==============================] - 0s 801us/step - loss: 0.7991 - accuracy: 0.4492\n",
      "Epoch 13/250\n",
      "6/6 [==============================] - 0s 609us/step - loss: 0.7961 - accuracy: 0.4492\n",
      "Epoch 14/250\n",
      "6/6 [==============================] - 0s 801us/step - loss: 0.7933 - accuracy: 0.4545\n",
      "Epoch 15/250\n",
      "6/6 [==============================] - 0s 801us/step - loss: 0.7904 - accuracy: 0.4545\n",
      "Epoch 16/250\n",
      "6/6 [==============================] - 0s 600us/step - loss: 0.7877 - accuracy: 0.4545\n",
      "Epoch 17/250\n",
      "6/6 [==============================] - 0s 801us/step - loss: 0.7850 - accuracy: 0.4545\n",
      "Epoch 18/250\n",
      "6/6 [==============================] - 0s 801us/step - loss: 0.7822 - accuracy: 0.4545\n",
      "Epoch 19/250\n",
      "6/6 [==============================] - 0s 600us/step - loss: 0.7795 - accuracy: 0.4545\n",
      "Epoch 20/250\n",
      "6/6 [==============================] - 0s 600us/step - loss: 0.7767 - accuracy: 0.4652\n",
      "Epoch 21/250\n",
      "6/6 [==============================] - 0s 801us/step - loss: 0.7740 - accuracy: 0.4652\n",
      "Epoch 22/250\n",
      "6/6 [==============================] - 0s 600us/step - loss: 0.7714 - accuracy: 0.4759\n",
      "Epoch 23/250\n",
      "6/6 [==============================] - 0s 800us/step - loss: 0.7687 - accuracy: 0.4759\n",
      "Epoch 24/250\n",
      "6/6 [==============================] - 0s 801us/step - loss: 0.7661 - accuracy: 0.4759\n",
      "Epoch 25/250\n",
      "6/6 [==============================] - 0s 601us/step - loss: 0.7635 - accuracy: 0.4706\n",
      "Epoch 26/250\n",
      "6/6 [==============================] - 0s 801us/step - loss: 0.7609 - accuracy: 0.4706\n",
      "Epoch 27/250\n",
      "6/6 [==============================] - 0s 801us/step - loss: 0.7583 - accuracy: 0.4652\n",
      "Epoch 28/250\n",
      "6/6 [==============================] - 0s 800us/step - loss: 0.7557 - accuracy: 0.4652\n",
      "Epoch 29/250\n",
      "6/6 [==============================] - 0s 801us/step - loss: 0.7534 - accuracy: 0.4759\n",
      "Epoch 30/250\n",
      "6/6 [==============================] - 0s 801us/step - loss: 0.7508 - accuracy: 0.4813\n",
      "Epoch 31/250\n",
      "6/6 [==============================] - 0s 801us/step - loss: 0.7482 - accuracy: 0.4759\n",
      "Epoch 32/250\n",
      "6/6 [==============================] - 0s 601us/step - loss: 0.7457 - accuracy: 0.4759\n",
      "Epoch 33/250\n",
      "6/6 [==============================] - 0s 600us/step - loss: 0.7434 - accuracy: 0.4759\n",
      "Epoch 34/250\n",
      "6/6 [==============================] - 0s 801us/step - loss: 0.7409 - accuracy: 0.4759\n",
      "Epoch 35/250\n",
      "6/6 [==============================] - 0s 801us/step - loss: 0.7384 - accuracy: 0.4813\n",
      "Epoch 36/250\n",
      "6/6 [==============================] - 0s 601us/step - loss: 0.7361 - accuracy: 0.4813\n",
      "Epoch 37/250\n",
      "6/6 [==============================] - 0s 1ms/step - loss: 0.7337 - accuracy: 0.4813\n",
      "Epoch 38/250\n",
      "6/6 [==============================] - 0s 600us/step - loss: 0.7313 - accuracy: 0.4813\n",
      "Epoch 39/250\n",
      "6/6 [==============================] - 0s 801us/step - loss: 0.7290 - accuracy: 0.4866\n",
      "Epoch 40/250\n",
      "6/6 [==============================] - 0s 801us/step - loss: 0.7267 - accuracy: 0.4866\n",
      "Epoch 41/250\n",
      "6/6 [==============================] - 0s 601us/step - loss: 0.7244 - accuracy: 0.4920\n",
      "Epoch 42/250\n",
      "6/6 [==============================] - 0s 600us/step - loss: 0.7221 - accuracy: 0.4920\n",
      "Epoch 43/250\n",
      "6/6 [==============================] - 0s 801us/step - loss: 0.7198 - accuracy: 0.4866\n",
      "Epoch 44/250\n",
      "6/6 [==============================] - 0s 801us/step - loss: 0.7176 - accuracy: 0.4813\n",
      "Epoch 45/250\n",
      "6/6 [==============================] - 0s 801us/step - loss: 0.7154 - accuracy: 0.4813\n",
      "Epoch 46/250\n",
      "6/6 [==============================] - 0s 801us/step - loss: 0.7132 - accuracy: 0.4813\n",
      "Epoch 47/250\n",
      "6/6 [==============================] - 0s 801us/step - loss: 0.7111 - accuracy: 0.4920\n",
      "Epoch 48/250\n",
      "6/6 [==============================] - 0s 601us/step - loss: 0.7088 - accuracy: 0.4920\n",
      "Epoch 49/250\n",
      "6/6 [==============================] - 0s 801us/step - loss: 0.7067 - accuracy: 0.4920\n",
      "Epoch 50/250\n",
      "6/6 [==============================] - 0s 801us/step - loss: 0.7046 - accuracy: 0.4920\n",
      "Epoch 51/250\n",
      "6/6 [==============================] - 0s 600us/step - loss: 0.7024 - accuracy: 0.4973\n",
      "Epoch 52/250\n",
      "6/6 [==============================] - 0s 801us/step - loss: 0.7002 - accuracy: 0.5027\n",
      "Epoch 53/250\n",
      "6/6 [==============================] - 0s 801us/step - loss: 0.6982 - accuracy: 0.5027\n",
      "Epoch 54/250\n",
      "6/6 [==============================] - 0s 800us/step - loss: 0.6962 - accuracy: 0.5080\n",
      "Epoch 55/250\n",
      "6/6 [==============================] - 0s 801us/step - loss: 0.6940 - accuracy: 0.5080\n",
      "Epoch 56/250\n",
      "6/6 [==============================] - 0s 601us/step - loss: 0.6921 - accuracy: 0.5134\n",
      "Epoch 57/250\n",
      "6/6 [==============================] - 0s 601us/step - loss: 0.6901 - accuracy: 0.5187\n",
      "Epoch 58/250\n",
      "6/6 [==============================] - 0s 601us/step - loss: 0.6881 - accuracy: 0.5241\n",
      "Epoch 59/250\n",
      "6/6 [==============================] - 0s 801us/step - loss: 0.6861 - accuracy: 0.5241\n",
      "Epoch 60/250\n",
      "6/6 [==============================] - 0s 600us/step - loss: 0.6841 - accuracy: 0.5241\n",
      "Epoch 61/250\n",
      "6/6 [==============================] - 0s 601us/step - loss: 0.6822 - accuracy: 0.5294\n",
      "Epoch 62/250\n",
      "6/6 [==============================] - 0s 601us/step - loss: 0.6803 - accuracy: 0.5294\n",
      "Epoch 63/250\n",
      "6/6 [==============================] - 0s 801us/step - loss: 0.6783 - accuracy: 0.5294\n",
      "Epoch 64/250\n",
      "6/6 [==============================] - 0s 801us/step - loss: 0.6764 - accuracy: 0.5294\n",
      "Epoch 65/250\n",
      "6/6 [==============================] - 0s 600us/step - loss: 0.6745 - accuracy: 0.5241\n",
      "Epoch 66/250\n",
      "6/6 [==============================] - 0s 601us/step - loss: 0.6727 - accuracy: 0.5241\n",
      "Epoch 67/250\n",
      "6/6 [==============================] - 0s 601us/step - loss: 0.6709 - accuracy: 0.5294\n",
      "Epoch 68/250\n",
      "6/6 [==============================] - 0s 801us/step - loss: 0.6691 - accuracy: 0.5294\n",
      "Epoch 69/250\n",
      "6/6 [==============================] - 0s 601us/step - loss: 0.6671 - accuracy: 0.5348\n",
      "Epoch 70/250\n",
      "6/6 [==============================] - 0s 601us/step - loss: 0.6654 - accuracy: 0.5348\n",
      "Epoch 71/250\n",
      "6/6 [==============================] - 0s 801us/step - loss: 0.6636 - accuracy: 0.5348\n",
      "Epoch 72/250\n",
      "6/6 [==============================] - 0s 600us/step - loss: 0.6618 - accuracy: 0.5348\n",
      "Epoch 73/250\n",
      "6/6 [==============================] - 0s 601us/step - loss: 0.6600 - accuracy: 0.5401\n",
      "Epoch 74/250\n",
      "6/6 [==============================] - 0s 801us/step - loss: 0.6582 - accuracy: 0.5401\n",
      "Epoch 75/250\n",
      "6/6 [==============================] - 0s 801us/step - loss: 0.6566 - accuracy: 0.5401\n",
      "Epoch 76/250\n",
      "6/6 [==============================] - 0s 600us/step - loss: 0.6549 - accuracy: 0.5401\n",
      "Epoch 77/250\n",
      "6/6 [==============================] - 0s 600us/step - loss: 0.6531 - accuracy: 0.5508\n",
      "Epoch 78/250\n",
      "6/6 [==============================] - 0s 801us/step - loss: 0.6515 - accuracy: 0.5508\n",
      "Epoch 79/250\n",
      "6/6 [==============================] - 0s 600us/step - loss: 0.6498 - accuracy: 0.5561\n",
      "Epoch 80/250\n",
      "6/6 [==============================] - 0s 601us/step - loss: 0.6481 - accuracy: 0.5561\n",
      "Epoch 81/250\n",
      "6/6 [==============================] - 0s 801us/step - loss: 0.6465 - accuracy: 0.5615\n",
      "Epoch 82/250\n",
      "6/6 [==============================] - 0s 801us/step - loss: 0.6448 - accuracy: 0.5722\n",
      "Epoch 83/250\n"
     ]
    },
    {
     "name": "stdout",
     "output_type": "stream",
     "text": [
      "6/6 [==============================] - 0s 801us/step - loss: 0.6431 - accuracy: 0.5882\n",
      "Epoch 84/250\n",
      "6/6 [==============================] - 0s 801us/step - loss: 0.6415 - accuracy: 0.5882\n",
      "Epoch 85/250\n",
      "6/6 [==============================] - 0s 600us/step - loss: 0.6400 - accuracy: 0.5936\n",
      "Epoch 86/250\n",
      "6/6 [==============================] - 0s 801us/step - loss: 0.6384 - accuracy: 0.5936\n",
      "Epoch 87/250\n",
      "6/6 [==============================] - 0s 801us/step - loss: 0.6368 - accuracy: 0.5936\n",
      "Epoch 88/250\n",
      "6/6 [==============================] - 0s 801us/step - loss: 0.6352 - accuracy: 0.6043\n",
      "Epoch 89/250\n",
      "6/6 [==============================] - 0s 801us/step - loss: 0.6337 - accuracy: 0.6096\n",
      "Epoch 90/250\n",
      "6/6 [==============================] - 0s 801us/step - loss: 0.6321 - accuracy: 0.6096\n",
      "Epoch 91/250\n",
      "6/6 [==============================] - 0s 801us/step - loss: 0.6306 - accuracy: 0.6096\n",
      "Epoch 92/250\n",
      "6/6 [==============================] - 0s 801us/step - loss: 0.6292 - accuracy: 0.6043\n",
      "Epoch 93/250\n",
      "6/6 [==============================] - 0s 801us/step - loss: 0.6277 - accuracy: 0.6043\n",
      "Epoch 94/250\n",
      "6/6 [==============================] - 0s 801us/step - loss: 0.6262 - accuracy: 0.6043\n",
      "Epoch 95/250\n",
      "6/6 [==============================] - 0s 801us/step - loss: 0.6246 - accuracy: 0.6043\n",
      "Epoch 96/250\n",
      "6/6 [==============================] - 0s 600us/step - loss: 0.6232 - accuracy: 0.6043\n",
      "Epoch 97/250\n",
      "6/6 [==============================] - 0s 800us/step - loss: 0.6218 - accuracy: 0.6043\n",
      "Epoch 98/250\n",
      "6/6 [==============================] - 0s 801us/step - loss: 0.6204 - accuracy: 0.6150\n",
      "Epoch 99/250\n",
      "6/6 [==============================] - 0s 801us/step - loss: 0.6190 - accuracy: 0.6150\n",
      "Epoch 100/250\n",
      "6/6 [==============================] - 0s 800us/step - loss: 0.6175 - accuracy: 0.6150\n",
      "Epoch 101/250\n",
      "6/6 [==============================] - 0s 801us/step - loss: 0.6161 - accuracy: 0.6150\n",
      "Epoch 102/250\n",
      "6/6 [==============================] - 0s 800us/step - loss: 0.6147 - accuracy: 0.6150\n",
      "Epoch 103/250\n",
      "6/6 [==============================] - 0s 801us/step - loss: 0.6133 - accuracy: 0.6150\n",
      "Epoch 104/250\n",
      "6/6 [==============================] - 0s 801us/step - loss: 0.6120 - accuracy: 0.6150\n",
      "Epoch 105/250\n",
      "6/6 [==============================] - 0s 800us/step - loss: 0.6107 - accuracy: 0.6150\n",
      "Epoch 106/250\n",
      "6/6 [==============================] - 0s 801us/step - loss: 0.6093 - accuracy: 0.6150\n",
      "Epoch 107/250\n",
      "6/6 [==============================] - 0s 601us/step - loss: 0.6080 - accuracy: 0.6150\n",
      "Epoch 108/250\n",
      "6/6 [==============================] - 0s 801us/step - loss: 0.6067 - accuracy: 0.6150\n",
      "Epoch 109/250\n",
      "6/6 [==============================] - 0s 801us/step - loss: 0.6053 - accuracy: 0.6150\n",
      "Epoch 110/250\n",
      "6/6 [==============================] - 0s 801us/step - loss: 0.6040 - accuracy: 0.6150\n",
      "Epoch 111/250\n",
      "6/6 [==============================] - 0s 801us/step - loss: 0.6028 - accuracy: 0.6150\n",
      "Epoch 112/250\n",
      "6/6 [==============================] - 0s 801us/step - loss: 0.6015 - accuracy: 0.6096\n",
      "Epoch 113/250\n",
      "6/6 [==============================] - 0s 801us/step - loss: 0.6002 - accuracy: 0.6096\n",
      "Epoch 114/250\n",
      "6/6 [==============================] - 0s 600us/step - loss: 0.5989 - accuracy: 0.6096\n",
      "Epoch 115/250\n",
      "6/6 [==============================] - 0s 601us/step - loss: 0.5977 - accuracy: 0.6150\n",
      "Epoch 116/250\n",
      "6/6 [==============================] - 0s 801us/step - loss: 0.5965 - accuracy: 0.6257\n",
      "Epoch 117/250\n",
      "6/6 [==============================] - 0s 801us/step - loss: 0.5952 - accuracy: 0.6257\n",
      "Epoch 118/250\n",
      "6/6 [==============================] - 0s 801us/step - loss: 0.5940 - accuracy: 0.6257\n",
      "Epoch 119/250\n",
      "6/6 [==============================] - 0s 801us/step - loss: 0.5928 - accuracy: 0.6257\n",
      "Epoch 120/250\n",
      "6/6 [==============================] - 0s 801us/step - loss: 0.5916 - accuracy: 0.6257\n",
      "Epoch 121/250\n",
      "6/6 [==============================] - 0s 801us/step - loss: 0.5905 - accuracy: 0.6257\n",
      "Epoch 122/250\n",
      "6/6 [==============================] - 0s 801us/step - loss: 0.5893 - accuracy: 0.6257\n",
      "Epoch 123/250\n",
      "6/6 [==============================] - 0s 1ms/step - loss: 0.5880 - accuracy: 0.6257\n",
      "Epoch 124/250\n",
      "6/6 [==============================] - 0s 801us/step - loss: 0.5869 - accuracy: 0.6257\n",
      "Epoch 125/250\n",
      "6/6 [==============================] - 0s 801us/step - loss: 0.5858 - accuracy: 0.6257\n",
      "Epoch 126/250\n",
      "6/6 [==============================] - 0s 601us/step - loss: 0.5846 - accuracy: 0.6257\n",
      "Epoch 127/250\n",
      "6/6 [==============================] - 0s 801us/step - loss: 0.5835 - accuracy: 0.6257\n",
      "Epoch 128/250\n",
      "6/6 [==============================] - 0s 601us/step - loss: 0.5823 - accuracy: 0.6257\n",
      "Epoch 129/250\n",
      "6/6 [==============================] - 0s 601us/step - loss: 0.5812 - accuracy: 0.6257\n",
      "Epoch 130/250\n",
      "6/6 [==============================] - 0s 801us/step - loss: 0.5801 - accuracy: 0.6310\n",
      "Epoch 131/250\n",
      "6/6 [==============================] - 0s 801us/step - loss: 0.5791 - accuracy: 0.6310\n",
      "Epoch 132/250\n",
      "6/6 [==============================] - 0s 801us/step - loss: 0.5779 - accuracy: 0.6310\n",
      "Epoch 133/250\n",
      "6/6 [==============================] - 0s 801us/step - loss: 0.5769 - accuracy: 0.6310\n",
      "Epoch 134/250\n",
      "6/6 [==============================] - 0s 601us/step - loss: 0.5758 - accuracy: 0.6364\n",
      "Epoch 135/250\n",
      "6/6 [==============================] - 0s 801us/step - loss: 0.5747 - accuracy: 0.6364\n",
      "Epoch 136/250\n",
      "6/6 [==============================] - 0s 801us/step - loss: 0.5736 - accuracy: 0.6364\n",
      "Epoch 137/250\n",
      "6/6 [==============================] - 0s 801us/step - loss: 0.5726 - accuracy: 0.6364\n",
      "Epoch 138/250\n",
      "6/6 [==============================] - 0s 600us/step - loss: 0.5716 - accuracy: 0.6364\n",
      "Epoch 139/250\n",
      "6/6 [==============================] - 0s 600us/step - loss: 0.5705 - accuracy: 0.6364\n",
      "Epoch 140/250\n",
      "6/6 [==============================] - 0s 800us/step - loss: 0.5695 - accuracy: 0.6364\n",
      "Epoch 141/250\n",
      "6/6 [==============================] - 0s 600us/step - loss: 0.5685 - accuracy: 0.6364\n",
      "Epoch 142/250\n",
      "6/6 [==============================] - 0s 801us/step - loss: 0.5675 - accuracy: 0.6364\n",
      "Epoch 143/250\n",
      "6/6 [==============================] - 0s 801us/step - loss: 0.5664 - accuracy: 0.6417\n",
      "Epoch 144/250\n",
      "6/6 [==============================] - 0s 601us/step - loss: 0.5654 - accuracy: 0.6417\n",
      "Epoch 145/250\n",
      "6/6 [==============================] - 0s 801us/step - loss: 0.5645 - accuracy: 0.6417\n",
      "Epoch 146/250\n",
      "6/6 [==============================] - 0s 801us/step - loss: 0.5635 - accuracy: 0.6471\n",
      "Epoch 147/250\n",
      "6/6 [==============================] - 0s 801us/step - loss: 0.5625 - accuracy: 0.6471\n",
      "Epoch 148/250\n",
      "6/6 [==============================] - 0s 801us/step - loss: 0.5615 - accuracy: 0.6471\n",
      "Epoch 149/250\n",
      "6/6 [==============================] - 0s 801us/step - loss: 0.5606 - accuracy: 0.6471\n",
      "Epoch 150/250\n",
      "6/6 [==============================] - 0s 801us/step - loss: 0.5596 - accuracy: 0.6471\n",
      "Epoch 151/250\n",
      "6/6 [==============================] - 0s 601us/step - loss: 0.5586 - accuracy: 0.6471\n",
      "Epoch 152/250\n",
      "6/6 [==============================] - 0s 801us/step - loss: 0.5577 - accuracy: 0.6471\n",
      "Epoch 153/250\n",
      "6/6 [==============================] - 0s 1ms/step - loss: 0.5567 - accuracy: 0.6524\n",
      "Epoch 154/250\n",
      "6/6 [==============================] - 0s 801us/step - loss: 0.5559 - accuracy: 0.6524\n",
      "Epoch 155/250\n",
      "6/6 [==============================] - 0s 1ms/step - loss: 0.5549 - accuracy: 0.6524\n",
      "Epoch 156/250\n",
      "6/6 [==============================] - 0s 801us/step - loss: 0.5540 - accuracy: 0.6524\n",
      "Epoch 157/250\n",
      "6/6 [==============================] - 0s 600us/step - loss: 0.5531 - accuracy: 0.6524\n",
      "Epoch 158/250\n",
      "6/6 [==============================] - 0s 801us/step - loss: 0.5522 - accuracy: 0.6578\n",
      "Epoch 159/250\n",
      "6/6 [==============================] - 0s 801us/step - loss: 0.5513 - accuracy: 0.6631\n",
      "Epoch 160/250\n",
      "6/6 [==============================] - 0s 801us/step - loss: 0.5504 - accuracy: 0.6631\n",
      "Epoch 161/250\n",
      "6/6 [==============================] - 0s 801us/step - loss: 0.5495 - accuracy: 0.6631\n",
      "Epoch 162/250\n",
      "6/6 [==============================] - 0s 801us/step - loss: 0.5487 - accuracy: 0.6631\n",
      "Epoch 163/250\n",
      "6/6 [==============================] - 0s 601us/step - loss: 0.5478 - accuracy: 0.6631\n",
      "Epoch 164/250\n",
      "6/6 [==============================] - 0s 681us/step - loss: 0.5469 - accuracy: 0.6631\n",
      "Epoch 165/250\n",
      "6/6 [==============================] - 0s 601us/step - loss: 0.5460 - accuracy: 0.6631\n",
      "Epoch 166/250\n",
      "6/6 [==============================] - 0s 601us/step - loss: 0.5452 - accuracy: 0.6631\n",
      "Epoch 167/250\n",
      "6/6 [==============================] - 0s 801us/step - loss: 0.5444 - accuracy: 0.6631\n",
      "Epoch 168/250\n",
      "6/6 [==============================] - 0s 601us/step - loss: 0.5435 - accuracy: 0.6684\n",
      "Epoch 169/250\n",
      "6/6 [==============================] - 0s 800us/step - loss: 0.5426 - accuracy: 0.6684\n",
      "Epoch 170/250\n",
      "6/6 [==============================] - 0s 800us/step - loss: 0.5419 - accuracy: 0.6684\n",
      "Epoch 171/250\n",
      "6/6 [==============================] - 0s 801us/step - loss: 0.5410 - accuracy: 0.6684\n",
      "Epoch 172/250\n",
      "6/6 [==============================] - 0s 801us/step - loss: 0.5402 - accuracy: 0.6684\n",
      "Epoch 173/250\n",
      "6/6 [==============================] - 0s 801us/step - loss: 0.5394 - accuracy: 0.6684\n",
      "Epoch 174/250\n",
      "6/6 [==============================] - 0s 1ms/step - loss: 0.5386 - accuracy: 0.6684\n",
      "Epoch 175/250\n",
      "6/6 [==============================] - 0s 801us/step - loss: 0.5378 - accuracy: 0.6738\n",
      "Epoch 176/250\n",
      "6/6 [==============================] - 0s 801us/step - loss: 0.5370 - accuracy: 0.6738\n",
      "Epoch 177/250\n",
      "6/6 [==============================] - 0s 801us/step - loss: 0.5362 - accuracy: 0.6791\n",
      "Epoch 178/250\n",
      "6/6 [==============================] - 0s 801us/step - loss: 0.5354 - accuracy: 0.6791\n",
      "Epoch 179/250\n",
      "6/6 [==============================] - 0s 801us/step - loss: 0.5347 - accuracy: 0.6791\n",
      "Epoch 180/250\n",
      "6/6 [==============================] - 0s 598us/step - loss: 0.5339 - accuracy: 0.6791\n",
      "Epoch 181/250\n",
      "6/6 [==============================] - 0s 801us/step - loss: 0.5332 - accuracy: 0.6845\n",
      "Epoch 182/250\n",
      "6/6 [==============================] - 0s 801us/step - loss: 0.5324 - accuracy: 0.6845\n",
      "Epoch 183/250\n",
      "6/6 [==============================] - 0s 801us/step - loss: 0.5316 - accuracy: 0.6845\n",
      "Epoch 184/250\n",
      "6/6 [==============================] - 0s 1ms/step - loss: 0.5309 - accuracy: 0.6845\n",
      "Epoch 185/250\n",
      "6/6 [==============================] - 0s 801us/step - loss: 0.5302 - accuracy: 0.6845\n",
      "Epoch 186/250\n",
      "6/6 [==============================] - 0s 601us/step - loss: 0.5294 - accuracy: 0.6845\n",
      "Epoch 187/250\n",
      "6/6 [==============================] - 0s 801us/step - loss: 0.5287 - accuracy: 0.6845\n",
      "Epoch 188/250\n",
      "6/6 [==============================] - 0s 801us/step - loss: 0.5279 - accuracy: 0.6845\n",
      "Epoch 189/250\n",
      "6/6 [==============================] - 0s 601us/step - loss: 0.5272 - accuracy: 0.6845\n",
      "Epoch 190/250\n",
      "6/6 [==============================] - 0s 801us/step - loss: 0.5265 - accuracy: 0.6845\n",
      "Epoch 191/250\n",
      "6/6 [==============================] - 0s 601us/step - loss: 0.5258 - accuracy: 0.6845\n",
      "Epoch 192/250\n",
      "6/6 [==============================] - 0s 801us/step - loss: 0.5251 - accuracy: 0.6845\n",
      "Epoch 193/250\n",
      "6/6 [==============================] - 0s 801us/step - loss: 0.5244 - accuracy: 0.6845\n",
      "Epoch 194/250\n",
      "6/6 [==============================] - 0s 801us/step - loss: 0.5237 - accuracy: 0.6845\n",
      "Epoch 195/250\n",
      "6/6 [==============================] - 0s 801us/step - loss: 0.5229 - accuracy: 0.6845\n",
      "Epoch 196/250\n",
      "6/6 [==============================] - 0s 801us/step - loss: 0.5223 - accuracy: 0.6845\n",
      "Epoch 197/250\n",
      "6/6 [==============================] - 0s 801us/step - loss: 0.5216 - accuracy: 0.6845\n",
      "Epoch 198/250\n",
      "6/6 [==============================] - 0s 801us/step - loss: 0.5209 - accuracy: 0.6898\n",
      "Epoch 199/250\n",
      "6/6 [==============================] - 0s 601us/step - loss: 0.5202 - accuracy: 0.6898\n",
      "Epoch 200/250\n",
      "6/6 [==============================] - 0s 801us/step - loss: 0.5195 - accuracy: 0.6952\n",
      "Epoch 201/250\n",
      "6/6 [==============================] - 0s 800us/step - loss: 0.5189 - accuracy: 0.6952\n",
      "Epoch 202/250\n",
      "6/6 [==============================] - 0s 600us/step - loss: 0.5182 - accuracy: 0.6952\n",
      "Epoch 203/250\n",
      "6/6 [==============================] - 0s 801us/step - loss: 0.5175 - accuracy: 0.6952\n",
      "Epoch 204/250\n",
      "6/6 [==============================] - 0s 801us/step - loss: 0.5168 - accuracy: 0.6952\n",
      "Epoch 205/250\n",
      "6/6 [==============================] - 0s 801us/step - loss: 0.5162 - accuracy: 0.6952\n",
      "Epoch 206/250\n",
      "6/6 [==============================] - 0s 801us/step - loss: 0.5155 - accuracy: 0.6952\n",
      "Epoch 207/250\n",
      "6/6 [==============================] - 0s 801us/step - loss: 0.5149 - accuracy: 0.6952\n",
      "Epoch 208/250\n",
      "6/6 [==============================] - 0s 801us/step - loss: 0.5143 - accuracy: 0.6952\n",
      "Epoch 209/250\n",
      "6/6 [==============================] - 0s 801us/step - loss: 0.5136 - accuracy: 0.6952\n",
      "Epoch 210/250\n",
      "6/6 [==============================] - 0s 801us/step - loss: 0.5130 - accuracy: 0.6952\n",
      "Epoch 211/250\n",
      "6/6 [==============================] - 0s 801us/step - loss: 0.5123 - accuracy: 0.7005\n",
      "Epoch 212/250\n",
      "6/6 [==============================] - 0s 801us/step - loss: 0.5117 - accuracy: 0.7005\n",
      "Epoch 213/250\n",
      "6/6 [==============================] - 0s 799us/step - loss: 0.5111 - accuracy: 0.7005\n",
      "Epoch 214/250\n",
      "6/6 [==============================] - 0s 801us/step - loss: 0.5104 - accuracy: 0.7005\n",
      "Epoch 215/250\n",
      "6/6 [==============================] - 0s 801us/step - loss: 0.5099 - accuracy: 0.7005\n",
      "Epoch 216/250\n",
      "6/6 [==============================] - 0s 801us/step - loss: 0.5092 - accuracy: 0.7005\n",
      "Epoch 217/250\n",
      "6/6 [==============================] - 0s 801us/step - loss: 0.5086 - accuracy: 0.7059\n",
      "Epoch 218/250\n",
      "6/6 [==============================] - 0s 801us/step - loss: 0.5080 - accuracy: 0.7059\n",
      "Epoch 219/250\n",
      "6/6 [==============================] - 0s 801us/step - loss: 0.5074 - accuracy: 0.7059\n",
      "Epoch 220/250\n",
      "6/6 [==============================] - 0s 801us/step - loss: 0.5068 - accuracy: 0.7059\n",
      "Epoch 221/250\n",
      "6/6 [==============================] - 0s 601us/step - loss: 0.5063 - accuracy: 0.7059\n",
      "Epoch 222/250\n",
      "6/6 [==============================] - 0s 1ms/step - loss: 0.5056 - accuracy: 0.7059\n",
      "Epoch 223/250\n",
      "6/6 [==============================] - 0s 801us/step - loss: 0.5051 - accuracy: 0.7059\n",
      "Epoch 224/250\n",
      "6/6 [==============================] - 0s 600us/step - loss: 0.5045 - accuracy: 0.7059\n",
      "Epoch 225/250\n",
      "6/6 [==============================] - 0s 801us/step - loss: 0.5039 - accuracy: 0.7059\n",
      "Epoch 226/250\n",
      "6/6 [==============================] - 0s 601us/step - loss: 0.5033 - accuracy: 0.7059\n",
      "Epoch 227/250\n",
      "6/6 [==============================] - 0s 801us/step - loss: 0.5027 - accuracy: 0.7059\n",
      "Epoch 228/250\n",
      "6/6 [==============================] - 0s 801us/step - loss: 0.5022 - accuracy: 0.7059\n",
      "Epoch 229/250\n",
      "6/6 [==============================] - 0s 601us/step - loss: 0.5016 - accuracy: 0.7059\n",
      "Epoch 230/250\n",
      "6/6 [==============================] - 0s 801us/step - loss: 0.5010 - accuracy: 0.7059\n",
      "Epoch 231/250\n",
      "6/6 [==============================] - 0s 801us/step - loss: 0.5005 - accuracy: 0.7059\n",
      "Epoch 232/250\n",
      "6/6 [==============================] - 0s 600us/step - loss: 0.4999 - accuracy: 0.7112\n",
      "Epoch 233/250\n",
      "6/6 [==============================] - 0s 600us/step - loss: 0.4993 - accuracy: 0.7112\n",
      "Epoch 234/250\n",
      "6/6 [==============================] - 0s 801us/step - loss: 0.4988 - accuracy: 0.7112\n",
      "Epoch 235/250\n",
      "6/6 [==============================] - 0s 601us/step - loss: 0.4982 - accuracy: 0.7112\n",
      "Epoch 236/250\n",
      "6/6 [==============================] - 0s 601us/step - loss: 0.4977 - accuracy: 0.7112\n",
      "Epoch 237/250\n",
      "6/6 [==============================] - 0s 600us/step - loss: 0.4971 - accuracy: 0.7112\n",
      "Epoch 238/250\n",
      "6/6 [==============================] - 0s 801us/step - loss: 0.4966 - accuracy: 0.7112\n",
      "Epoch 239/250\n",
      "6/6 [==============================] - 0s 800us/step - loss: 0.4961 - accuracy: 0.7112\n",
      "Epoch 240/250\n",
      "6/6 [==============================] - 0s 801us/step - loss: 0.4955 - accuracy: 0.7112\n",
      "Epoch 241/250\n",
      "6/6 [==============================] - 0s 603us/step - loss: 0.4950 - accuracy: 0.7112\n",
      "Epoch 242/250\n",
      "6/6 [==============================] - 0s 801us/step - loss: 0.4945 - accuracy: 0.7112\n",
      "Epoch 243/250\n",
      "6/6 [==============================] - 0s 801us/step - loss: 0.4939 - accuracy: 0.7112\n",
      "Epoch 244/250\n",
      "6/6 [==============================] - 0s 801us/step - loss: 0.4934 - accuracy: 0.7112\n",
      "Epoch 245/250\n"
     ]
    },
    {
     "name": "stdout",
     "output_type": "stream",
     "text": [
      "6/6 [==============================] - 0s 600us/step - loss: 0.4929 - accuracy: 0.7112\n",
      "Epoch 246/250\n",
      "6/6 [==============================] - 0s 1ms/step - loss: 0.4924 - accuracy: 0.7112\n",
      "Epoch 247/250\n",
      "6/6 [==============================] - 0s 801us/step - loss: 0.4919 - accuracy: 0.7112\n",
      "Epoch 248/250\n",
      "6/6 [==============================] - 0s 801us/step - loss: 0.4913 - accuracy: 0.7112\n",
      "Epoch 249/250\n",
      "6/6 [==============================] - 0s 801us/step - loss: 0.4909 - accuracy: 0.7112\n",
      "Epoch 250/250\n",
      "6/6 [==============================] - 0s 801us/step - loss: 0.4903 - accuracy: 0.7112\n"
     ]
    }
   ],
   "source": [
    "history = model.fit(X_moon_train, y_moon_train, epochs=250, verbose=1)"
   ]
  },
  {
   "cell_type": "markdown",
   "metadata": {},
   "source": [
    "After the fitting, we can retrieve the correctness information for the next matching steps (subsequent epochs) from the `history` variable."
   ]
  },
  {
   "cell_type": "code",
   "execution_count": 155,
   "metadata": {},
   "outputs": [
    {
     "data": {
      "text/plain": [
       "[<matplotlib.lines.Line2D at 0x1b4858d7d30>]"
      ]
     },
     "execution_count": 155,
     "metadata": {},
     "output_type": "execute_result"
    },
    {
     "data": {
      "image/png": "[encoded data removed]",
      "text/plain": [
       "<Figure size 432x288 with 1 Axes>"
      ]
     },
     "metadata": {
      "needs_background": "light"
     },
     "output_type": "display_data"
    }
   ],
   "source": [
    "plt.plot(history.history['accuracy'])"
   ]
  },
  {
   "cell_type": "code",
   "execution_count": 156,
   "metadata": {},
   "outputs": [
    {
     "name": "stdout",
     "output_type": "stream",
     "text": [
      "2/2 [==============================] - 0s 2ms/step - loss: 0.5006 - accuracy: 0.7460\n"
     ]
    },
    {
     "data": {
      "text/plain": [
       "[0.5006170868873596, 0.7460317611694336]"
      ]
     },
     "execution_count": 156,
     "metadata": {},
     "output_type": "execute_result"
    }
   ],
   "source": [
    "model.evaluate(X_moon_test, y_moon_test)"
   ]
  },
  {
   "cell_type": "markdown",
   "metadata": {},
   "source": [
    "If your correctness is below 80%, you can run the model fitting cell (`model.fit(...)`) again."
   ]
  },
  {
   "cell_type": "markdown",
   "metadata": {},
   "source": [
    "It is worth noting that the solution reached by the network is tantamount to the logistic regression that we have already learned.\n",
    "This is because our network weighs predictors (values on the x and y axes in the graphic representation), adds up and transforms them logistically. Logistic regression does exactly the same - it selects weights for the predictors, adds up and transforms logistically. Logistic regression still has an `intercept`, but it is no different in the case of neural networks - every neuron has a so-called `bias`, which works exactly the same way as the `intercept`. As a result, we have implemented logistic regression using a neural network. We need more layers to be able to achieve better results.  \n",
    "However, before we move on to adding layers, we will check what correctness we get on the test data:"
   ]
  },
  {
   "cell_type": "code",
   "execution_count": 157,
   "metadata": {},
   "outputs": [],
   "source": [
    "def show_correctness(X, y, clf, threshold=0.5):\n",
    "    probabilities = clf.predict(X)[:, 0]\n",
    "    predictions = (probabilities > threshold).astype('int')\n",
    "    correctness = (predictions == y).mean()\n",
    "    print('The correctness is: {:.2f}'.format(correctness))"
   ]
  },
  {
   "cell_type": "code",
   "execution_count": 158,
   "metadata": {},
   "outputs": [
    {
     "name": "stdout",
     "output_type": "stream",
     "text": [
      "The correctness is: 0.75\n"
     ]
    }
   ],
   "source": [
    "show_correctness(X_moon_test, y_moon_test, model)"
   ]
  },
  {
   "cell_type": "code",
   "execution_count": 159,
   "metadata": {
    "collapsed": true
   },
   "outputs": [
    {
     "data": {
      "text/plain": [
       "array([[ 0.2467138 ,  0.05688658],\n",
       "       [ 2.16611381,  0.55246223],\n",
       "       [-0.89133921,  0.63518384],\n",
       "       [ 0.22026011,  0.07795242],\n",
       "       [ 1.0680606 ,  0.20771745],\n",
       "       [-0.33706365,  0.66118159],\n",
       "       [ 1.74753267,  0.21362538],\n",
       "       [-0.15313866, -0.12966688],\n",
       "       [-0.14373856,  0.49585869],\n",
       "       [-0.05825825, -0.48870107],\n",
       "       [ 0.64280988,  0.5965882 ],\n",
       "       [ 0.17295596,  1.60444722],\n",
       "       [-0.05188011, -0.52122416],\n",
       "       [ 1.42100819,  0.06414886],\n",
       "       [ 1.20356908,  0.51215767],\n",
       "       [ 0.97322549, -0.11496253],\n",
       "       [ 1.06558509, -0.02777633],\n",
       "       [ 2.17382843, -0.07457587],\n",
       "       [-1.03235856,  1.20633133],\n",
       "       [ 1.7937816 , -0.32435954],\n",
       "       [ 1.41686845, -0.13302112],\n",
       "       [ 0.39798971,  0.93971917],\n",
       "       [-1.09927793,  0.07990166],\n",
       "       [ 0.17472507,  0.6354233 ],\n",
       "       [ 1.19648059, -0.04900048],\n",
       "       [ 0.55081683, -0.43848377],\n",
       "       [ 0.6427421 , -0.07170425],\n",
       "       [-0.09057932,  1.29638875],\n",
       "       [ 1.96662683, -0.10798768],\n",
       "       [ 2.12682868,  0.13503875],\n",
       "       [ 0.46033797, -0.50434732],\n",
       "       [ 0.59447376, -0.0749429 ],\n",
       "       [ 0.37873174,  0.54280965],\n",
       "       [ 0.7051844 ,  0.65029149],\n",
       "       [-0.22174337,  1.0050013 ],\n",
       "       [ 0.49402577,  0.96579285],\n",
       "       [ 1.39563137, -0.06358911],\n",
       "       [ 0.77913642, -0.66667941],\n",
       "       [-0.21918974,  0.00655423],\n",
       "       [ 0.72949523, -0.62334373],\n",
       "       [-0.48884086,  0.82152874],\n",
       "       [-0.68239144,  0.53859538],\n",
       "       [ 0.17503438,  1.07945987],\n",
       "       [-0.03449105,  0.49275321],\n",
       "       [ 0.56689822, -0.42461458],\n",
       "       [ 0.726578  , -0.66912861],\n",
       "       [-0.85034981,  0.49311219],\n",
       "       [-0.00713973,  0.8717984 ],\n",
       "       [ 0.27235806, -0.10316004],\n",
       "       [ 0.5548207 , -0.32509028],\n",
       "       [-1.01182816,  0.12201522],\n",
       "       [ 2.15986373,  0.05393421],\n",
       "       [-0.24999259,  1.35002415],\n",
       "       [ 0.07827793,  0.15831992],\n",
       "       [ 0.57730061, -0.06322763],\n",
       "       [-0.75421968,  0.48491884],\n",
       "       [-0.84786733, -0.35354223],\n",
       "       [ 0.7513196 , -0.72836129],\n",
       "       [ 1.08580482, -0.01278989],\n",
       "       [-0.51039414,  0.2299277 ],\n",
       "       [ 1.60346233, -0.15502473],\n",
       "       [ 1.77422637, -0.03509262],\n",
       "       [ 0.39077487, -0.56515808]])"
      ]
     },
     "execution_count": 159,
     "metadata": {},
     "output_type": "execute_result"
    }
   ],
   "source": [
    "X_moon_test"
   ]
  },
  {
   "cell_type": "code",
   "execution_count": 160,
   "metadata": {
    "collapsed": true
   },
   "outputs": [
    {
     "data": {
      "text/plain": [
       "array([[0.42427027],\n",
       "       [0.90040684],\n",
       "       [0.12227529],\n",
       "       [0.41446054],\n",
       "       [0.68570685],\n",
       "       [0.22740689],\n",
       "       [0.84585744],\n",
       "       [0.30780452],\n",
       "       [0.2836873 ],\n",
       "       [0.3526033 ],\n",
       "       [0.5304995 ],\n",
       "       [0.32657343],\n",
       "       [0.3561167 ],\n",
       "       [0.78404284],\n",
       "       [0.7113017 ],\n",
       "       [0.67207134],\n",
       "       [0.6953349 ],\n",
       "       [0.91222966],\n",
       "       [0.09277835],\n",
       "       [0.86714566],\n",
       "       [0.78989583],\n",
       "       [0.43016654],\n",
       "       [0.10531446],\n",
       "       [0.37236756],\n",
       "       [0.73252326],\n",
       "       [0.5522921 ],\n",
       "       [0.5645057 ],\n",
       "       [0.26530224],\n",
       "       [0.8875945 ],\n",
       "       [0.9032775 ],\n",
       "       [0.52510303],\n",
       "       [0.5484789 ],\n",
       "       [0.44380412],\n",
       "       [0.5488163 ],\n",
       "       [0.24287918],\n",
       "       [0.4610796 ],\n",
       "       [0.7826463 ],\n",
       "       [0.6381162 ],\n",
       "       [0.28329173],\n",
       "       [0.6202978 ],\n",
       "       [0.18811843],\n",
       "       [0.15879941],\n",
       "       [0.3513857 ],\n",
       "       [0.31494254],\n",
       "       [0.556987  ],\n",
       "       [0.62158036],\n",
       "       [0.13168618],\n",
       "       [0.30621535],\n",
       "       [0.44090182],\n",
       "       [0.54786867],\n",
       "       [0.11615911],\n",
       "       [0.9085255 ],\n",
       "       [0.22334161],\n",
       "       [0.36468935],\n",
       "       [0.542094  ],\n",
       "       [0.14757067],\n",
       "       [0.15333605],\n",
       "       [0.6322938 ],\n",
       "       [0.7004795 ],\n",
       "       [0.2026301 ],\n",
       "       [0.82955074],\n",
       "       [0.8569145 ],\n",
       "       [0.50461173]], dtype=float32)"
      ]
     },
     "execution_count": 160,
     "metadata": {},
     "output_type": "execute_result"
    }
   ],
   "source": [
    "model.predict(X_moon_test)"
   ]
  },
  {
   "cell_type": "markdown",
   "metadata": {},
   "source": [
    "Time to increase model correctness. We will create a network with one hidden layer. We create the model the same way as before, we also create the output layer. Now, before we add the output layer, we add another layer with the following characteristics:\n",
    "* 3 neurons\n",
    "* Activation of the `relu` type"
   ]
  },
  {
   "cell_type": "markdown",
   "metadata": {},
   "source": [
    "<div class=\"alert alert-block alert-info\">\n",
    "📺 ************* WATCH AT HOME *************\n",
    "<br>\n",
    "\n",
    "[Which Activation Function Should I Use? - VERY GOOD VIDEO about RELU!](https://www.youtube.com/watch?v=-7scQpJT7uo)\n",
    "\n",
    "</div>"
   ]
  },
  {
   "cell_type": "code",
   "execution_count": 161,
   "metadata": {},
   "outputs": [],
   "source": [
    "model = Sequential()\n",
    "model.add(Dense(3, activation='relu', input_shape=(2,)))\n",
    "model.add(Dense(1, activation='sigmoid'))"
   ]
  },
  {
   "cell_type": "markdown",
   "metadata": {},
   "source": [
    "We compile and fit the model as before:"
   ]
  },
  {
   "cell_type": "code",
   "execution_count": 162,
   "metadata": {},
   "outputs": [],
   "source": [
    "model.compile(loss='binary_crossentropy', optimizer='adam', metrics=['accuracy'])"
   ]
  },
  {
   "cell_type": "code",
   "execution_count": 163,
   "metadata": {
    "scrolled": true
   },
   "outputs": [
    {
     "name": "stdout",
     "output_type": "stream",
     "text": [
      "Epoch 1/250\n",
      "6/6 [==============================] - 0s 801us/step - loss: 0.5822 - accuracy: 0.8503\n",
      "Epoch 2/250\n",
      "6/6 [==============================] - 0s 600us/step - loss: 0.5768 - accuracy: 0.8503\n",
      "Epoch 3/250\n",
      "6/6 [==============================] - 0s 801us/step - loss: 0.5716 - accuracy: 0.8503\n",
      "Epoch 4/250\n",
      "6/6 [==============================] - 0s 801us/step - loss: 0.5666 - accuracy: 0.8449\n",
      "Epoch 5/250\n",
      "6/6 [==============================] - 0s 801us/step - loss: 0.5615 - accuracy: 0.8449\n",
      "Epoch 6/250\n",
      "6/6 [==============================] - 0s 801us/step - loss: 0.5563 - accuracy: 0.8449\n",
      "Epoch 7/250\n",
      "6/6 [==============================] - 0s 801us/step - loss: 0.5517 - accuracy: 0.8449\n",
      "Epoch 8/250\n",
      "6/6 [==============================] - 0s 801us/step - loss: 0.5469 - accuracy: 0.8449\n",
      "Epoch 9/250\n",
      "6/6 [==============================] - 0s 801us/step - loss: 0.5423 - accuracy: 0.8449\n",
      "Epoch 10/250\n",
      "6/6 [==============================] - 0s 801us/step - loss: 0.5380 - accuracy: 0.8449\n",
      "Epoch 11/250\n",
      "6/6 [==============================] - 0s 801us/step - loss: 0.5336 - accuracy: 0.8449\n",
      "Epoch 12/250\n",
      "6/6 [==============================] - 0s 801us/step - loss: 0.5292 - accuracy: 0.8449\n",
      "Epoch 13/250\n",
      "6/6 [==============================] - 0s 1ms/step - loss: 0.5252 - accuracy: 0.8449\n",
      "Epoch 14/250\n",
      "6/6 [==============================] - 0s 801us/step - loss: 0.5211 - accuracy: 0.8449\n",
      "Epoch 15/250\n",
      "6/6 [==============================] - 0s 800us/step - loss: 0.5173 - accuracy: 0.8449\n",
      "Epoch 16/250\n",
      "6/6 [==============================] - 0s 1ms/step - loss: 0.5133 - accuracy: 0.8449\n",
      "Epoch 17/250\n",
      "6/6 [==============================] - 0s 601us/step - loss: 0.5094 - accuracy: 0.8449\n",
      "Epoch 18/250\n",
      "6/6 [==============================] - 0s 801us/step - loss: 0.5056 - accuracy: 0.8449\n",
      "Epoch 19/250\n",
      "6/6 [==============================] - 0s 801us/step - loss: 0.5020 - accuracy: 0.8449\n",
      "Epoch 20/250\n",
      "6/6 [==============================] - 0s 600us/step - loss: 0.4984 - accuracy: 0.8449\n",
      "Epoch 21/250\n",
      "6/6 [==============================] - 0s 801us/step - loss: 0.4950 - accuracy: 0.8449\n",
      "Epoch 22/250\n",
      "6/6 [==============================] - 0s 600us/step - loss: 0.4914 - accuracy: 0.8449\n",
      "Epoch 23/250\n",
      "6/6 [==============================] - 0s 801us/step - loss: 0.4881 - accuracy: 0.8449\n",
      "Epoch 24/250\n",
      "6/6 [==============================] - 0s 601us/step - loss: 0.4845 - accuracy: 0.8449\n",
      "Epoch 25/250\n",
      "6/6 [==============================] - 0s 600us/step - loss: 0.4812 - accuracy: 0.8449\n",
      "Epoch 26/250\n",
      "6/6 [==============================] - 0s 600us/step - loss: 0.4780 - accuracy: 0.8449\n",
      "Epoch 27/250\n",
      "6/6 [==============================] - 0s 601us/step - loss: 0.4750 - accuracy: 0.8449\n",
      "Epoch 28/250\n",
      "6/6 [==============================] - 0s 801us/step - loss: 0.4717 - accuracy: 0.8449\n",
      "Epoch 29/250\n",
      "6/6 [==============================] - 0s 801us/step - loss: 0.4687 - accuracy: 0.8449\n",
      "Epoch 30/250\n",
      "6/6 [==============================] - 0s 801us/step - loss: 0.4657 - accuracy: 0.8449\n",
      "Epoch 31/250\n",
      "6/6 [==============================] - 0s 801us/step - loss: 0.4628 - accuracy: 0.8449\n",
      "Epoch 32/250\n",
      "6/6 [==============================] - 0s 801us/step - loss: 0.4601 - accuracy: 0.8449\n",
      "Epoch 33/250\n",
      "6/6 [==============================] - 0s 601us/step - loss: 0.4571 - accuracy: 0.8449\n",
      "Epoch 34/250\n",
      "6/6 [==============================] - 0s 1ms/step - loss: 0.4544 - accuracy: 0.8449\n",
      "Epoch 35/250\n",
      "6/6 [==============================] - 0s 801us/step - loss: 0.4519 - accuracy: 0.8449\n",
      "Epoch 36/250\n",
      "6/6 [==============================] - 0s 801us/step - loss: 0.4491 - accuracy: 0.8449\n",
      "Epoch 37/250\n",
      "6/6 [==============================] - 0s 801us/step - loss: 0.4466 - accuracy: 0.8449\n",
      "Epoch 38/250\n",
      "6/6 [==============================] - 0s 801us/step - loss: 0.4442 - accuracy: 0.8449\n",
      "Epoch 39/250\n",
      "6/6 [==============================] - 0s 601us/step - loss: 0.4417 - accuracy: 0.8449\n",
      "Epoch 40/250\n",
      "6/6 [==============================] - 0s 601us/step - loss: 0.4393 - accuracy: 0.8449\n",
      "Epoch 41/250\n",
      "6/6 [==============================] - 0s 801us/step - loss: 0.4372 - accuracy: 0.8449\n",
      "Epoch 42/250\n",
      "6/6 [==============================] - 0s 801us/step - loss: 0.4349 - accuracy: 0.8449\n",
      "Epoch 43/250\n",
      "6/6 [==============================] - 0s 801us/step - loss: 0.4327 - accuracy: 0.8449\n",
      "Epoch 44/250\n",
      "6/6 [==============================] - 0s 601us/step - loss: 0.4305 - accuracy: 0.8396\n",
      "Epoch 45/250\n",
      "6/6 [==============================] - 0s 600us/step - loss: 0.4285 - accuracy: 0.8396\n",
      "Epoch 46/250\n",
      "6/6 [==============================] - 0s 801us/step - loss: 0.4264 - accuracy: 0.8396\n",
      "Epoch 47/250\n",
      "6/6 [==============================] - 0s 801us/step - loss: 0.4245 - accuracy: 0.8396\n",
      "Epoch 48/250\n",
      "6/6 [==============================] - 0s 801us/step - loss: 0.4225 - accuracy: 0.8396\n",
      "Epoch 49/250\n",
      "6/6 [==============================] - 0s 801us/step - loss: 0.4207 - accuracy: 0.8396\n",
      "Epoch 50/250\n",
      "6/6 [==============================] - 0s 801us/step - loss: 0.4187 - accuracy: 0.8396\n",
      "Epoch 51/250\n",
      "6/6 [==============================] - 0s 801us/step - loss: 0.4170 - accuracy: 0.8396\n",
      "Epoch 52/250\n",
      "6/6 [==============================] - 0s 801us/step - loss: 0.4155 - accuracy: 0.8396\n",
      "Epoch 53/250\n",
      "6/6 [==============================] - 0s 800us/step - loss: 0.4135 - accuracy: 0.8396\n",
      "Epoch 54/250\n",
      "6/6 [==============================] - 0s 601us/step - loss: 0.4120 - accuracy: 0.8396\n",
      "Epoch 55/250\n",
      "6/6 [==============================] - 0s 801us/step - loss: 0.4103 - accuracy: 0.8396\n",
      "Epoch 56/250\n",
      "6/6 [==============================] - 0s 600us/step - loss: 0.4088 - accuracy: 0.8396\n",
      "Epoch 57/250\n",
      "6/6 [==============================] - 0s 801us/step - loss: 0.4071 - accuracy: 0.8396\n",
      "Epoch 58/250\n",
      "6/6 [==============================] - 0s 801us/step - loss: 0.4057 - accuracy: 0.8396\n",
      "Epoch 59/250\n",
      "6/6 [==============================] - 0s 601us/step - loss: 0.4042 - accuracy: 0.8396\n",
      "Epoch 60/250\n",
      "6/6 [==============================] - 0s 600us/step - loss: 0.4028 - accuracy: 0.8396\n",
      "Epoch 61/250\n",
      "6/6 [==============================] - 0s 601us/step - loss: 0.4013 - accuracy: 0.8396\n",
      "Epoch 62/250\n",
      "6/6 [==============================] - 0s 801us/step - loss: 0.4000 - accuracy: 0.8396\n",
      "Epoch 63/250\n",
      "6/6 [==============================] - 0s 601us/step - loss: 0.3988 - accuracy: 0.8396\n",
      "Epoch 64/250\n",
      "6/6 [==============================] - 0s 801us/step - loss: 0.3975 - accuracy: 0.8449\n",
      "Epoch 65/250\n",
      "6/6 [==============================] - 0s 801us/step - loss: 0.3962 - accuracy: 0.8449\n",
      "Epoch 66/250\n",
      "6/6 [==============================] - 0s 801us/step - loss: 0.3950 - accuracy: 0.8449\n",
      "Epoch 67/250\n",
      "6/6 [==============================] - 0s 600us/step - loss: 0.3938 - accuracy: 0.8449\n",
      "Epoch 68/250\n",
      "6/6 [==============================] - 0s 601us/step - loss: 0.3927 - accuracy: 0.8449\n",
      "Epoch 69/250\n",
      "6/6 [==============================] - 0s 801us/step - loss: 0.3916 - accuracy: 0.8449\n",
      "Epoch 70/250\n",
      "6/6 [==============================] - 0s 600us/step - loss: 0.3903 - accuracy: 0.8449\n",
      "Epoch 71/250\n",
      "6/6 [==============================] - 0s 801us/step - loss: 0.3894 - accuracy: 0.8449\n",
      "Epoch 72/250\n",
      "6/6 [==============================] - 0s 801us/step - loss: 0.3884 - accuracy: 0.8449\n",
      "Epoch 73/250\n",
      "6/6 [==============================] - 0s 801us/step - loss: 0.3873 - accuracy: 0.8449\n",
      "Epoch 74/250\n",
      "6/6 [==============================] - 0s 801us/step - loss: 0.3864 - accuracy: 0.8449\n",
      "Epoch 75/250\n",
      "6/6 [==============================] - 0s 800us/step - loss: 0.3854 - accuracy: 0.8449\n",
      "Epoch 76/250\n",
      "6/6 [==============================] - 0s 801us/step - loss: 0.3845 - accuracy: 0.8449\n",
      "Epoch 77/250\n",
      "6/6 [==============================] - 0s 600us/step - loss: 0.3835 - accuracy: 0.8449\n",
      "Epoch 78/250\n",
      "6/6 [==============================] - 0s 601us/step - loss: 0.3826 - accuracy: 0.8449\n",
      "Epoch 79/250\n",
      "6/6 [==============================] - 0s 801us/step - loss: 0.3818 - accuracy: 0.8449\n",
      "Epoch 80/250\n",
      "6/6 [==============================] - 0s 801us/step - loss: 0.3809 - accuracy: 0.8449\n",
      "Epoch 81/250\n",
      "6/6 [==============================] - 0s 601us/step - loss: 0.3801 - accuracy: 0.8449\n",
      "Epoch 82/250\n",
      "6/6 [==============================] - 0s 801us/step - loss: 0.3793 - accuracy: 0.8449\n",
      "Epoch 83/250\n"
     ]
    },
    {
     "name": "stdout",
     "output_type": "stream",
     "text": [
      "6/6 [==============================] - 0s 600us/step - loss: 0.3785 - accuracy: 0.8449\n",
      "Epoch 84/250\n",
      "6/6 [==============================] - 0s 801us/step - loss: 0.3777 - accuracy: 0.8449\n",
      "Epoch 85/250\n",
      "6/6 [==============================] - 0s 601us/step - loss: 0.3769 - accuracy: 0.8449\n",
      "Epoch 86/250\n",
      "6/6 [==============================] - 0s 601us/step - loss: 0.3764 - accuracy: 0.8449\n",
      "Epoch 87/250\n",
      "6/6 [==============================] - 0s 801us/step - loss: 0.3756 - accuracy: 0.8449\n",
      "Epoch 88/250\n",
      "6/6 [==============================] - 0s 601us/step - loss: 0.3749 - accuracy: 0.8449\n",
      "Epoch 89/250\n",
      "6/6 [==============================] - 0s 801us/step - loss: 0.3743 - accuracy: 0.8449\n",
      "Epoch 90/250\n",
      "6/6 [==============================] - 0s 801us/step - loss: 0.3736 - accuracy: 0.8503\n",
      "Epoch 91/250\n",
      "6/6 [==============================] - 0s 600us/step - loss: 0.3730 - accuracy: 0.8503\n",
      "Epoch 92/250\n",
      "6/6 [==============================] - 0s 801us/step - loss: 0.3723 - accuracy: 0.8503\n",
      "Epoch 93/250\n",
      "6/6 [==============================] - 0s 801us/step - loss: 0.3718 - accuracy: 0.8503\n",
      "Epoch 94/250\n",
      "6/6 [==============================] - 0s 801us/step - loss: 0.3711 - accuracy: 0.8503\n",
      "Epoch 95/250\n",
      "6/6 [==============================] - 0s 801us/step - loss: 0.3707 - accuracy: 0.8503\n",
      "Epoch 96/250\n",
      "6/6 [==============================] - 0s 801us/step - loss: 0.3700 - accuracy: 0.8556\n",
      "Epoch 97/250\n",
      "6/6 [==============================] - 0s 601us/step - loss: 0.3695 - accuracy: 0.8556\n",
      "Epoch 98/250\n",
      "6/6 [==============================] - 0s 801us/step - loss: 0.3690 - accuracy: 0.8556\n",
      "Epoch 99/250\n",
      "6/6 [==============================] - 0s 600us/step - loss: 0.3685 - accuracy: 0.8556\n",
      "Epoch 100/250\n",
      "6/6 [==============================] - 0s 801us/step - loss: 0.3679 - accuracy: 0.8556\n",
      "Epoch 101/250\n",
      "6/6 [==============================] - 0s 800us/step - loss: 0.3675 - accuracy: 0.8556\n",
      "Epoch 102/250\n",
      "6/6 [==============================] - 0s 601us/step - loss: 0.3670 - accuracy: 0.8556\n",
      "Epoch 103/250\n",
      "6/6 [==============================] - 0s 600us/step - loss: 0.3666 - accuracy: 0.8556\n",
      "Epoch 104/250\n",
      "6/6 [==============================] - 0s 801us/step - loss: 0.3661 - accuracy: 0.8556\n",
      "Epoch 105/250\n",
      "6/6 [==============================] - 0s 801us/step - loss: 0.3656 - accuracy: 0.8556\n",
      "Epoch 106/250\n",
      "6/6 [==============================] - 0s 801us/step - loss: 0.3653 - accuracy: 0.8556\n",
      "Epoch 107/250\n",
      "6/6 [==============================] - 0s 801us/step - loss: 0.3648 - accuracy: 0.8556\n",
      "Epoch 108/250\n",
      "6/6 [==============================] - 0s 1ms/step - loss: 0.3645 - accuracy: 0.8556\n",
      "Epoch 109/250\n",
      "6/6 [==============================] - 0s 1ms/step - loss: 0.3640 - accuracy: 0.8556\n",
      "Epoch 110/250\n",
      "6/6 [==============================] - 0s 801us/step - loss: 0.3637 - accuracy: 0.8556\n",
      "Epoch 111/250\n",
      "6/6 [==============================] - 0s 801us/step - loss: 0.3633 - accuracy: 0.8556\n",
      "Epoch 112/250\n",
      "6/6 [==============================] - 0s 801us/step - loss: 0.3629 - accuracy: 0.8556\n",
      "Epoch 113/250\n",
      "6/6 [==============================] - 0s 801us/step - loss: 0.3626 - accuracy: 0.8556\n",
      "Epoch 114/250\n",
      "6/6 [==============================] - 0s 1ms/step - loss: 0.3622 - accuracy: 0.8556\n",
      "Epoch 115/250\n",
      "6/6 [==============================] - 0s 1ms/step - loss: 0.3619 - accuracy: 0.8556\n",
      "Epoch 116/250\n",
      "6/6 [==============================] - 0s 801us/step - loss: 0.3615 - accuracy: 0.8556\n",
      "Epoch 117/250\n",
      "6/6 [==============================] - 0s 801us/step - loss: 0.3613 - accuracy: 0.8556\n",
      "Epoch 118/250\n",
      "6/6 [==============================] - 0s 801us/step - loss: 0.3608 - accuracy: 0.8556\n",
      "Epoch 119/250\n",
      "6/6 [==============================] - 0s 1ms/step - loss: 0.3607 - accuracy: 0.8556\n",
      "Epoch 120/250\n",
      "6/6 [==============================] - 0s 801us/step - loss: 0.3603 - accuracy: 0.8556\n",
      "Epoch 121/250\n",
      "6/6 [==============================] - 0s 801us/step - loss: 0.3600 - accuracy: 0.8556\n",
      "Epoch 122/250\n",
      "6/6 [==============================] - 0s 801us/step - loss: 0.3597 - accuracy: 0.8556\n",
      "Epoch 123/250\n",
      "6/6 [==============================] - 0s 801us/step - loss: 0.3594 - accuracy: 0.8556\n",
      "Epoch 124/250\n",
      "6/6 [==============================] - 0s 801us/step - loss: 0.3592 - accuracy: 0.8556\n",
      "Epoch 125/250\n",
      "6/6 [==============================] - 0s 801us/step - loss: 0.3590 - accuracy: 0.8556\n",
      "Epoch 126/250\n",
      "6/6 [==============================] - 0s 801us/step - loss: 0.3586 - accuracy: 0.8556\n",
      "Epoch 127/250\n",
      "6/6 [==============================] - 0s 801us/step - loss: 0.3583 - accuracy: 0.8556\n",
      "Epoch 128/250\n",
      "6/6 [==============================] - 0s 1ms/step - loss: 0.3582 - accuracy: 0.8556\n",
      "Epoch 129/250\n",
      "6/6 [==============================] - 0s 801us/step - loss: 0.3579 - accuracy: 0.8556\n",
      "Epoch 130/250\n",
      "6/6 [==============================] - 0s 600us/step - loss: 0.3576 - accuracy: 0.8556\n",
      "Epoch 131/250\n",
      "6/6 [==============================] - 0s 801us/step - loss: 0.3574 - accuracy: 0.8556\n",
      "Epoch 132/250\n",
      "6/6 [==============================] - 0s 600us/step - loss: 0.3572 - accuracy: 0.8556\n",
      "Epoch 133/250\n",
      "6/6 [==============================] - 0s 601us/step - loss: 0.3569 - accuracy: 0.8556\n",
      "Epoch 134/250\n",
      "6/6 [==============================] - 0s 600us/step - loss: 0.3568 - accuracy: 0.8556\n",
      "Epoch 135/250\n",
      "6/6 [==============================] - 0s 801us/step - loss: 0.3565 - accuracy: 0.8556\n",
      "Epoch 136/250\n",
      "6/6 [==============================] - 0s 801us/step - loss: 0.3564 - accuracy: 0.8556\n",
      "Epoch 137/250\n",
      "6/6 [==============================] - 0s 1ms/step - loss: 0.3561 - accuracy: 0.8556\n",
      "Epoch 138/250\n",
      "6/6 [==============================] - 0s 601us/step - loss: 0.3561 - accuracy: 0.8556\n",
      "Epoch 139/250\n",
      "6/6 [==============================] - 0s 801us/step - loss: 0.3557 - accuracy: 0.8556\n",
      "Epoch 140/250\n",
      "6/6 [==============================] - 0s 1ms/step - loss: 0.3555 - accuracy: 0.8556\n",
      "Epoch 141/250\n",
      "6/6 [==============================] - 0s 801us/step - loss: 0.3554 - accuracy: 0.8556\n",
      "Epoch 142/250\n",
      "6/6 [==============================] - 0s 801us/step - loss: 0.3552 - accuracy: 0.8556\n",
      "Epoch 143/250\n",
      "6/6 [==============================] - 0s 1ms/step - loss: 0.3550 - accuracy: 0.8556\n",
      "Epoch 144/250\n",
      "6/6 [==============================] - 0s 801us/step - loss: 0.3550 - accuracy: 0.8556\n",
      "Epoch 145/250\n",
      "6/6 [==============================] - 0s 801us/step - loss: 0.3547 - accuracy: 0.8556\n",
      "Epoch 146/250\n",
      "6/6 [==============================] - 0s 801us/step - loss: 0.3545 - accuracy: 0.8556\n",
      "Epoch 147/250\n",
      "6/6 [==============================] - 0s 801us/step - loss: 0.3544 - accuracy: 0.8556\n",
      "Epoch 148/250\n",
      "6/6 [==============================] - 0s 801us/step - loss: 0.3542 - accuracy: 0.8556\n",
      "Epoch 149/250\n",
      "6/6 [==============================] - 0s 601us/step - loss: 0.3540 - accuracy: 0.8556\n",
      "Epoch 150/250\n",
      "6/6 [==============================] - 0s 600us/step - loss: 0.3539 - accuracy: 0.8556\n",
      "Epoch 151/250\n",
      "6/6 [==============================] - 0s 801us/step - loss: 0.3537 - accuracy: 0.8556\n",
      "Epoch 152/250\n",
      "6/6 [==============================] - 0s 801us/step - loss: 0.3536 - accuracy: 0.8556\n",
      "Epoch 153/250\n",
      "6/6 [==============================] - 0s 801us/step - loss: 0.3535 - accuracy: 0.8556\n",
      "Epoch 154/250\n",
      "6/6 [==============================] - 0s 801us/step - loss: 0.3533 - accuracy: 0.8556\n",
      "Epoch 155/250\n",
      "6/6 [==============================] - 0s 801us/step - loss: 0.3531 - accuracy: 0.8556\n",
      "Epoch 156/250\n",
      "6/6 [==============================] - 0s 600us/step - loss: 0.3530 - accuracy: 0.8556\n",
      "Epoch 157/250\n",
      "6/6 [==============================] - 0s 801us/step - loss: 0.3529 - accuracy: 0.8556\n",
      "Epoch 158/250\n",
      "6/6 [==============================] - 0s 601us/step - loss: 0.3527 - accuracy: 0.8556\n",
      "Epoch 159/250\n",
      "6/6 [==============================] - 0s 801us/step - loss: 0.3526 - accuracy: 0.8556\n",
      "Epoch 160/250\n",
      "6/6 [==============================] - 0s 601us/step - loss: 0.3525 - accuracy: 0.8556\n",
      "Epoch 161/250\n",
      "6/6 [==============================] - 0s 801us/step - loss: 0.3524 - accuracy: 0.8556\n",
      "Epoch 162/250\n",
      "6/6 [==============================] - 0s 801us/step - loss: 0.3523 - accuracy: 0.8556\n",
      "Epoch 163/250\n",
      "6/6 [==============================] - 0s 601us/step - loss: 0.3521 - accuracy: 0.8556\n",
      "Epoch 164/250\n",
      "6/6 [==============================] - 0s 801us/step - loss: 0.3521 - accuracy: 0.8556\n",
      "Epoch 165/250\n",
      "6/6 [==============================] - 0s 600us/step - loss: 0.3519 - accuracy: 0.8556\n",
      "Epoch 166/250\n",
      "6/6 [==============================] - 0s 801us/step - loss: 0.3518 - accuracy: 0.8556\n",
      "Epoch 167/250\n",
      "6/6 [==============================] - 0s 601us/step - loss: 0.3517 - accuracy: 0.8556\n",
      "Epoch 168/250\n",
      "6/6 [==============================] - 0s 601us/step - loss: 0.3517 - accuracy: 0.8556\n",
      "Epoch 169/250\n",
      "6/6 [==============================] - 0s 801us/step - loss: 0.3515 - accuracy: 0.8556\n",
      "Epoch 170/250\n",
      "6/6 [==============================] - 0s 601us/step - loss: 0.3514 - accuracy: 0.8556\n",
      "Epoch 171/250\n",
      "6/6 [==============================] - 0s 1ms/step - loss: 0.3513 - accuracy: 0.8556\n",
      "Epoch 172/250\n",
      "6/6 [==============================] - 0s 801us/step - loss: 0.3512 - accuracy: 0.8556\n",
      "Epoch 173/250\n",
      "6/6 [==============================] - 0s 801us/step - loss: 0.3511 - accuracy: 0.8556\n",
      "Epoch 174/250\n",
      "6/6 [==============================] - 0s 801us/step - loss: 0.3511 - accuracy: 0.8556\n",
      "Epoch 175/250\n",
      "6/6 [==============================] - 0s 600us/step - loss: 0.3509 - accuracy: 0.8556\n",
      "Epoch 176/250\n",
      "6/6 [==============================] - 0s 801us/step - loss: 0.3508 - accuracy: 0.8556\n",
      "Epoch 177/250\n",
      "6/6 [==============================] - 0s 601us/step - loss: 0.3508 - accuracy: 0.8556\n",
      "Epoch 178/250\n",
      "6/6 [==============================] - 0s 601us/step - loss: 0.3507 - accuracy: 0.8556\n",
      "Epoch 179/250\n",
      "6/6 [==============================] - 0s 600us/step - loss: 0.3506 - accuracy: 0.8556\n",
      "Epoch 180/250\n",
      "6/6 [==============================] - 0s 600us/step - loss: 0.3506 - accuracy: 0.8556\n",
      "Epoch 181/250\n",
      "6/6 [==============================] - 0s 801us/step - loss: 0.3505 - accuracy: 0.8556\n",
      "Epoch 182/250\n",
      "6/6 [==============================] - 0s 600us/step - loss: 0.3504 - accuracy: 0.8556\n",
      "Epoch 183/250\n",
      "6/6 [==============================] - 0s 601us/step - loss: 0.3503 - accuracy: 0.8556\n",
      "Epoch 184/250\n",
      "6/6 [==============================] - 0s 600us/step - loss: 0.3502 - accuracy: 0.8556\n",
      "Epoch 185/250\n",
      "6/6 [==============================] - 0s 601us/step - loss: 0.3501 - accuracy: 0.8556\n",
      "Epoch 186/250\n",
      "6/6 [==============================] - 0s 801us/step - loss: 0.3500 - accuracy: 0.8556\n",
      "Epoch 187/250\n",
      "6/6 [==============================] - 0s 801us/step - loss: 0.3500 - accuracy: 0.8556\n",
      "Epoch 188/250\n",
      "6/6 [==============================] - 0s 600us/step - loss: 0.3500 - accuracy: 0.8556\n",
      "Epoch 189/250\n",
      "6/6 [==============================] - 0s 601us/step - loss: 0.3499 - accuracy: 0.8556\n",
      "Epoch 190/250\n",
      "6/6 [==============================] - 0s 801us/step - loss: 0.3498 - accuracy: 0.8556\n",
      "Epoch 191/250\n",
      "6/6 [==============================] - 0s 600us/step - loss: 0.3497 - accuracy: 0.8556\n",
      "Epoch 192/250\n",
      "6/6 [==============================] - 0s 601us/step - loss: 0.3496 - accuracy: 0.8556\n",
      "Epoch 193/250\n",
      "6/6 [==============================] - 0s 601us/step - loss: 0.3495 - accuracy: 0.8556\n",
      "Epoch 194/250\n",
      "6/6 [==============================] - 0s 600us/step - loss: 0.3495 - accuracy: 0.8556\n",
      "Epoch 195/250\n",
      "6/6 [==============================] - 0s 1ms/step - loss: 0.3494 - accuracy: 0.8556\n",
      "Epoch 196/250\n",
      "6/6 [==============================] - 0s 801us/step - loss: 0.3494 - accuracy: 0.8556\n",
      "Epoch 197/250\n",
      "6/6 [==============================] - 0s 801us/step - loss: 0.3493 - accuracy: 0.8556\n",
      "Epoch 198/250\n",
      "6/6 [==============================] - 0s 801us/step - loss: 0.3493 - accuracy: 0.8556\n",
      "Epoch 199/250\n",
      "6/6 [==============================] - 0s 601us/step - loss: 0.3493 - accuracy: 0.8556\n",
      "Epoch 200/250\n",
      "6/6 [==============================] - 0s 600us/step - loss: 0.3491 - accuracy: 0.8556\n",
      "Epoch 201/250\n",
      "6/6 [==============================] - 0s 1ms/step - loss: 0.3491 - accuracy: 0.8556\n",
      "Epoch 202/250\n",
      "6/6 [==============================] - 0s 601us/step - loss: 0.3490 - accuracy: 0.8556\n",
      "Epoch 203/250\n",
      "6/6 [==============================] - 0s 601us/step - loss: 0.3490 - accuracy: 0.8556\n",
      "Epoch 204/250\n",
      "6/6 [==============================] - 0s 801us/step - loss: 0.3490 - accuracy: 0.8556\n",
      "Epoch 205/250\n",
      "6/6 [==============================] - 0s 801us/step - loss: 0.3489 - accuracy: 0.8556\n",
      "Epoch 206/250\n",
      "6/6 [==============================] - 0s 801us/step - loss: 0.3489 - accuracy: 0.8556\n",
      "Epoch 207/250\n",
      "6/6 [==============================] - 0s 801us/step - loss: 0.3488 - accuracy: 0.8556\n",
      "Epoch 208/250\n",
      "6/6 [==============================] - 0s 801us/step - loss: 0.3488 - accuracy: 0.8556\n",
      "Epoch 209/250\n",
      "6/6 [==============================] - 0s 601us/step - loss: 0.3487 - accuracy: 0.8556\n",
      "Epoch 210/250\n",
      "6/6 [==============================] - 0s 801us/step - loss: 0.3486 - accuracy: 0.8556\n",
      "Epoch 211/250\n",
      "6/6 [==============================] - 0s 801us/step - loss: 0.3486 - accuracy: 0.8556\n",
      "Epoch 212/250\n",
      "6/6 [==============================] - 0s 600us/step - loss: 0.3486 - accuracy: 0.8556\n",
      "Epoch 213/250\n",
      "6/6 [==============================] - 0s 801us/step - loss: 0.3485 - accuracy: 0.8556\n",
      "Epoch 214/250\n",
      "6/6 [==============================] - 0s 801us/step - loss: 0.3485 - accuracy: 0.8556\n",
      "Epoch 215/250\n",
      "6/6 [==============================] - 0s 801us/step - loss: 0.3484 - accuracy: 0.8556\n",
      "Epoch 216/250\n",
      "6/6 [==============================] - 0s 801us/step - loss: 0.3485 - accuracy: 0.8556\n",
      "Epoch 217/250\n",
      "6/6 [==============================] - 0s 1ms/step - loss: 0.3484 - accuracy: 0.8503\n",
      "Epoch 218/250\n",
      "6/6 [==============================] - 0s 801us/step - loss: 0.3483 - accuracy: 0.8503\n",
      "Epoch 219/250\n",
      "6/6 [==============================] - 0s 601us/step - loss: 0.3483 - accuracy: 0.8503\n",
      "Epoch 220/250\n",
      "6/6 [==============================] - 0s 801us/step - loss: 0.3482 - accuracy: 0.8503\n",
      "Epoch 221/250\n",
      "6/6 [==============================] - 0s 801us/step - loss: 0.3482 - accuracy: 0.8503\n",
      "Epoch 222/250\n",
      "6/6 [==============================] - 0s 801us/step - loss: 0.3482 - accuracy: 0.8503\n",
      "Epoch 223/250\n",
      "6/6 [==============================] - 0s 801us/step - loss: 0.3481 - accuracy: 0.8503\n",
      "Epoch 224/250\n",
      "6/6 [==============================] - 0s 801us/step - loss: 0.3481 - accuracy: 0.8503\n",
      "Epoch 225/250\n",
      "6/6 [==============================] - 0s 801us/step - loss: 0.3481 - accuracy: 0.8503\n",
      "Epoch 226/250\n",
      "6/6 [==============================] - 0s 801us/step - loss: 0.3480 - accuracy: 0.8503\n",
      "Epoch 227/250\n",
      "6/6 [==============================] - 0s 801us/step - loss: 0.3480 - accuracy: 0.8503\n",
      "Epoch 228/250\n",
      "6/6 [==============================] - 0s 801us/step - loss: 0.3480 - accuracy: 0.8503\n",
      "Epoch 229/250\n",
      "6/6 [==============================] - 0s 801us/step - loss: 0.3479 - accuracy: 0.8503\n",
      "Epoch 230/250\n",
      "6/6 [==============================] - 0s 801us/step - loss: 0.3479 - accuracy: 0.8503\n",
      "Epoch 231/250\n",
      "6/6 [==============================] - 0s 801us/step - loss: 0.3479 - accuracy: 0.8503\n",
      "Epoch 232/250\n",
      "6/6 [==============================] - 0s 601us/step - loss: 0.3478 - accuracy: 0.8503\n",
      "Epoch 233/250\n",
      "6/6 [==============================] - 0s 801us/step - loss: 0.3478 - accuracy: 0.8556\n",
      "Epoch 234/250\n",
      "6/6 [==============================] - 0s 800us/step - loss: 0.3479 - accuracy: 0.8556\n",
      "Epoch 235/250\n",
      "6/6 [==============================] - 0s 801us/step - loss: 0.3478 - accuracy: 0.8556\n",
      "Epoch 236/250\n",
      "6/6 [==============================] - 0s 801us/step - loss: 0.3477 - accuracy: 0.8556\n",
      "Epoch 237/250\n",
      "6/6 [==============================] - 0s 801us/step - loss: 0.3477 - accuracy: 0.8556\n",
      "Epoch 238/250\n",
      "6/6 [==============================] - 0s 801us/step - loss: 0.3477 - accuracy: 0.8556\n",
      "Epoch 239/250\n",
      "6/6 [==============================] - 0s 801us/step - loss: 0.3477 - accuracy: 0.8556\n",
      "Epoch 240/250\n",
      "6/6 [==============================] - 0s 600us/step - loss: 0.3476 - accuracy: 0.8556\n",
      "Epoch 241/250\n",
      "6/6 [==============================] - 0s 801us/step - loss: 0.3476 - accuracy: 0.8556\n",
      "Epoch 242/250\n",
      "6/6 [==============================] - 0s 801us/step - loss: 0.3476 - accuracy: 0.8556\n",
      "Epoch 243/250\n",
      "6/6 [==============================] - 0s 601us/step - loss: 0.3475 - accuracy: 0.8556\n",
      "Epoch 244/250\n",
      "6/6 [==============================] - 0s 801us/step - loss: 0.3475 - accuracy: 0.8556\n",
      "Epoch 245/250\n"
     ]
    },
    {
     "name": "stdout",
     "output_type": "stream",
     "text": [
      "6/6 [==============================] - 0s 801us/step - loss: 0.3475 - accuracy: 0.8556\n",
      "Epoch 246/250\n",
      "6/6 [==============================] - 0s 801us/step - loss: 0.3475 - accuracy: 0.8556\n",
      "Epoch 247/250\n",
      "6/6 [==============================] - 0s 801us/step - loss: 0.3475 - accuracy: 0.8556\n",
      "Epoch 248/250\n",
      "6/6 [==============================] - 0s 801us/step - loss: 0.3475 - accuracy: 0.8503\n",
      "Epoch 249/250\n",
      "6/6 [==============================] - 0s 801us/step - loss: 0.3474 - accuracy: 0.8503\n",
      "Epoch 250/250\n",
      "6/6 [==============================] - 0s 1ms/step - loss: 0.3474 - accuracy: 0.8503\n"
     ]
    }
   ],
   "source": [
    "history = model.fit(X_moon_train, y_moon_train, epochs=250, verbose=1)"
   ]
  },
  {
   "cell_type": "code",
   "execution_count": 164,
   "metadata": {},
   "outputs": [
    {
     "data": {
      "text/plain": [
       "[<matplotlib.lines.Line2D at 0x1b485893880>]"
      ]
     },
     "execution_count": 164,
     "metadata": {},
     "output_type": "execute_result"
    },
    {
     "data": {
      "image/png": "[encoded data removed]",
      "text/plain": [
       "<Figure size 432x288 with 1 Axes>"
      ]
     },
     "metadata": {
      "needs_background": "light"
     },
     "output_type": "display_data"
    }
   ],
   "source": [
    "plt.plot(history.history['accuracy'])"
   ]
  },
  {
   "cell_type": "markdown",
   "metadata": {},
   "source": [
    "<div class=\"alert alert-block alert-success\">\n",
    "⚠️TASK 4\n",
    "<br>\n",
    "\n",
    "Now check the correctness of this network for the test data.\n",
    "\n",
    "</div>"
   ]
  },
  {
   "cell_type": "code",
   "execution_count": 165,
   "metadata": {},
   "outputs": [
    {
     "name": "stdout",
     "output_type": "stream",
     "text": [
      "2/2 [==============================] - 0s 1ms/step - loss: 0.3249 - accuracy: 0.8730\n"
     ]
    },
    {
     "data": {
      "text/plain": [
       "[0.32486286759376526, 0.8730158805847168]"
      ]
     },
     "execution_count": 165,
     "metadata": {},
     "output_type": "execute_result"
    }
   ],
   "source": [
    "model.evaluate(X_moon_test, y_moon_test)"
   ]
  },
  {
   "cell_type": "markdown",
   "metadata": {},
   "source": [
    "<div class=\"alert alert-block alert-success\">\n",
    "⚠️TASK 5\n",
    "<br>\n",
    "\n",
    "Create a model with two hidden layers: one with 8 neurons, the other with 2. Both hidden layers with activation of `'relu'` type.\n",
    "\n",
    "</div>"
   ]
  },
  {
   "cell_type": "code",
   "execution_count": 166,
   "metadata": {},
   "outputs": [],
   "source": [
    "# creating model\n",
    "model = Sequential()\n",
    "\n",
    "# hidden layers\n",
    "model.add(Dense(8, activation='relu', input_shape=(2,)))\n",
    "model.add(Dense(2, activation='relu'))\n",
    "\n",
    "# output layer\n",
    "model.add(Dense(1, activation='sigmoid'))"
   ]
  },
  {
   "cell_type": "code",
   "execution_count": 167,
   "metadata": {},
   "outputs": [
    {
     "data": {
      "text/plain": [
       "[<matplotlib.lines.Line2D at 0x1b48c450070>]"
      ]
     },
     "execution_count": 167,
     "metadata": {},
     "output_type": "execute_result"
    },
    {
     "data": {
      "image/png": "[encoded data removed]",
      "text/plain": [
       "<Figure size 432x288 with 1 Axes>"
      ]
     },
     "metadata": {
      "needs_background": "light"
     },
     "output_type": "display_data"
    }
   ],
   "source": [
    "# compiling, training, and plotting the accuracy history\n",
    "model.compile(loss='binary_crossentropy', optimizer='adam', metrics=['accuracy'])\n",
    "history = model.fit(X_moon_train, y_moon_train, epochs=350, verbose=0)\n",
    "plt.plot(history.history['accuracy'])"
   ]
  },
  {
   "cell_type": "markdown",
   "metadata": {},
   "source": [
    "<div class=\"alert alert-block alert-success\">\n",
    "⚠️TASK 6\n",
    "<br>\n",
    "\n",
    "Now check the correctness of this network for the test data.\n",
    "\n",
    "</div>"
   ]
  },
  {
   "cell_type": "code",
   "execution_count": 168,
   "metadata": {},
   "outputs": [
    {
     "name": "stdout",
     "output_type": "stream",
     "text": [
      "2/2 [==============================] - 0s 2ms/step - loss: 0.2783 - accuracy: 0.8889\n"
     ]
    },
    {
     "data": {
      "text/plain": [
       "[0.2783256769180298, 0.8888888955116272]"
      ]
     },
     "execution_count": 168,
     "metadata": {},
     "output_type": "execute_result"
    }
   ],
   "source": [
    "model.evaluate(X_moon_test, y_moon_test)"
   ]
  },
  {
   "cell_type": "markdown",
   "metadata": {},
   "source": [
    "<div class=\"alert alert-block alert-success\">\n",
    "⚠️TASK 7\n",
    "<br>\n",
    "\n",
    "Build the same model as in the first exercise, but now the second hidden layer should have 10 neurons.\n",
    "\n",
    "</div>"
   ]
  },
  {
   "cell_type": "code",
   "execution_count": 169,
   "metadata": {},
   "outputs": [],
   "source": [
    "# here the code creating the network\n",
    "model = Sequential()\n",
    "\n",
    "#hidden layers\n",
    "model.add(Dense(8, activation='relu', input_shape=(2,)))\n",
    "model.add(Dense(10, activation = 'relu'))\n",
    "\n",
    "#output layer\n",
    "model.add(Dense(1, activation = 'sigmoid'))"
   ]
  },
  {
   "cell_type": "code",
   "execution_count": 170,
   "metadata": {},
   "outputs": [
    {
     "data": {
      "text/plain": [
       "[<matplotlib.lines.Line2D at 0x1b48d5c2610>]"
      ]
     },
     "execution_count": 170,
     "metadata": {},
     "output_type": "execute_result"
    },
    {
     "data": {
      "image/png": "[encoded data removed]",
      "text/plain": [
       "<Figure size 432x288 with 1 Axes>"
      ]
     },
     "metadata": {
      "needs_background": "light"
     },
     "output_type": "display_data"
    }
   ],
   "source": [
    "model.compile(loss='binary_crossentropy', optimizer='adam', metrics=['accuracy'])\n",
    "history = model.fit(X_moon_train, y_moon_train, epochs=350, verbose=0)\n",
    "plt.plot(history.history['accuracy'])"
   ]
  },
  {
   "cell_type": "code",
   "execution_count": 171,
   "metadata": {
    "scrolled": true
   },
   "outputs": [
    {
     "ename": "AttributeError",
     "evalue": "'Sequential' object has no attribute 'predict_proba'",
     "output_type": "error",
     "traceback": [
      "\u001b[1;31m---------------------------------------------------------------------------\u001b[0m",
      "\u001b[1;31mAttributeError\u001b[0m                            Traceback (most recent call last)",
      "Input \u001b[1;32mIn [171]\u001b[0m, in \u001b[0;36m<cell line: 1>\u001b[1;34m()\u001b[0m\n\u001b[1;32m----> 1\u001b[0m \u001b[43mplot_decision\u001b[49m\u001b[43m(\u001b[49m\u001b[43mX_moon_test\u001b[49m\u001b[43m,\u001b[49m\u001b[43m \u001b[49m\u001b[43my_moon_test\u001b[49m\u001b[43m,\u001b[49m\u001b[43m \u001b[49m\u001b[43mclf\u001b[49m\u001b[38;5;241;43m=\u001b[39;49m\u001b[43mmodel\u001b[49m\u001b[43m)\u001b[49m\n",
      "File \u001b[1;32m~\\Google Drive\\My Drive\\My Uni\\Koźmin\\Semester_2\\Intro_python\\Class_09_Neural Networks\\imports_for_ML.py:55\u001b[0m, in \u001b[0;36mplot_decision\u001b[1;34m(X, y, clf, cm)\u001b[0m\n\u001b[0;32m     53\u001b[0m     Z \u001b[38;5;241m=\u001b[39m clf\u001b[38;5;241m.\u001b[39mpredict_proba(np\u001b[38;5;241m.\u001b[39mc_[xx\u001b[38;5;241m.\u001b[39mravel(), yy\u001b[38;5;241m.\u001b[39mravel()])[:, \u001b[38;5;241m0\u001b[39m]\n\u001b[0;32m     54\u001b[0m \u001b[38;5;28;01melse\u001b[39;00m:\n\u001b[1;32m---> 55\u001b[0m     Z \u001b[38;5;241m=\u001b[39m \u001b[43mclf\u001b[49m\u001b[38;5;241;43m.\u001b[39;49m\u001b[43mpredict_proba\u001b[49m(np\u001b[38;5;241m.\u001b[39mc_[xx\u001b[38;5;241m.\u001b[39mravel(), yy\u001b[38;5;241m.\u001b[39mravel()])[:, \u001b[38;5;241m1\u001b[39m]\n\u001b[0;32m     57\u001b[0m \u001b[38;5;66;03m# put the result into a contour plot\u001b[39;00m\n\u001b[0;32m     58\u001b[0m Z \u001b[38;5;241m=\u001b[39m Z\u001b[38;5;241m.\u001b[39mreshape(xx\u001b[38;5;241m.\u001b[39mshape)\n",
      "\u001b[1;31mAttributeError\u001b[0m: 'Sequential' object has no attribute 'predict_proba'"
     ]
    }
   ],
   "source": [
    "plot_decision(X_moon_test, y_moon_test, clf=model)"
   ]
  },
  {
   "cell_type": "markdown",
   "metadata": {},
   "source": [
    "<div class=\"alert alert-block alert-success\">\n",
    "⚠️TASK 8\n",
    "<br>\n",
    "\n",
    "Now check the correctness of this network for the test data.\n",
    "\n",
    "</div>"
   ]
  },
  {
   "cell_type": "code",
   "execution_count": 172,
   "metadata": {},
   "outputs": [
    {
     "name": "stdout",
     "output_type": "stream",
     "text": [
      "2/2 [==============================] - 0s 1ms/step - loss: 0.2620 - accuracy: 0.9206\n"
     ]
    },
    {
     "data": {
      "text/plain": [
       "[0.26196417212486267, 0.920634925365448]"
      ]
     },
     "execution_count": 172,
     "metadata": {},
     "output_type": "execute_result"
    }
   ],
   "source": [
    "model.evaluate(X_moon_test, y_moon_test)"
   ]
  },
  {
   "cell_type": "markdown",
   "metadata": {},
   "source": [
    "Can you see what the correctness is right now???"
   ]
  },
  {
   "cell_type": "markdown",
   "metadata": {},
   "source": [
    "# Back to the Titanic\n",
    "First, create a network with two hidden layers - 10 neurons each.\n",
    "We will now use titanic data; also note that we have a different number of predicators here, which we have to provide to `input_shape`:"
   ]
  },
  {
   "cell_type": "markdown",
   "metadata": {},
   "source": [
    "<div class=\"alert alert-block alert-success\">\n",
    "⚠️TASK 9\n",
    "<br>\n",
    "\n",
    "Now create a network to classify survival on Titanic.\n",
    "\n",
    "</div>"
   ]
  },
  {
   "cell_type": "code",
   "execution_count": 173,
   "metadata": {},
   "outputs": [],
   "source": [
    "titanic = sns.load_dataset('titanic')"
   ]
  },
  {
   "cell_type": "code",
   "execution_count": 174,
   "metadata": {
    "scrolled": true
   },
   "outputs": [
    {
     "data": {
      "text/html": [
       "<div>\n",
       "<style scoped>\n",
       "    .dataframe tbody tr th:only-of-type {\n",
       "        vertical-align: middle;\n",
       "    }\n",
       "\n",
       "    .dataframe tbody tr th {\n",
       "        vertical-align: top;\n",
       "    }\n",
       "\n",
       "    .dataframe thead th {\n",
       "        text-align: right;\n",
       "    }\n",
       "</style>\n",
       "<table border=\"1\" class=\"dataframe\">\n",
       "  <thead>\n",
       "    <tr style=\"text-align: right;\">\n",
       "      <th></th>\n",
       "      <th>survived</th>\n",
       "      <th>pclass</th>\n",
       "      <th>sex</th>\n",
       "      <th>age</th>\n",
       "      <th>sibsp</th>\n",
       "      <th>parch</th>\n",
       "      <th>fare</th>\n",
       "      <th>embarked</th>\n",
       "      <th>class</th>\n",
       "      <th>who</th>\n",
       "      <th>adult_male</th>\n",
       "      <th>deck</th>\n",
       "      <th>embark_town</th>\n",
       "      <th>alive</th>\n",
       "      <th>alone</th>\n",
       "    </tr>\n",
       "  </thead>\n",
       "  <tbody>\n",
       "    <tr>\n",
       "      <th>0</th>\n",
       "      <td>0</td>\n",
       "      <td>3</td>\n",
       "      <td>male</td>\n",
       "      <td>22.0</td>\n",
       "      <td>1</td>\n",
       "      <td>0</td>\n",
       "      <td>7.2500</td>\n",
       "      <td>S</td>\n",
       "      <td>Third</td>\n",
       "      <td>man</td>\n",
       "      <td>True</td>\n",
       "      <td>NaN</td>\n",
       "      <td>Southampton</td>\n",
       "      <td>no</td>\n",
       "      <td>False</td>\n",
       "    </tr>\n",
       "    <tr>\n",
       "      <th>1</th>\n",
       "      <td>1</td>\n",
       "      <td>1</td>\n",
       "      <td>female</td>\n",
       "      <td>38.0</td>\n",
       "      <td>1</td>\n",
       "      <td>0</td>\n",
       "      <td>71.2833</td>\n",
       "      <td>C</td>\n",
       "      <td>First</td>\n",
       "      <td>woman</td>\n",
       "      <td>False</td>\n",
       "      <td>C</td>\n",
       "      <td>Cherbourg</td>\n",
       "      <td>yes</td>\n",
       "      <td>False</td>\n",
       "    </tr>\n",
       "    <tr>\n",
       "      <th>2</th>\n",
       "      <td>1</td>\n",
       "      <td>3</td>\n",
       "      <td>female</td>\n",
       "      <td>26.0</td>\n",
       "      <td>0</td>\n",
       "      <td>0</td>\n",
       "      <td>7.9250</td>\n",
       "      <td>S</td>\n",
       "      <td>Third</td>\n",
       "      <td>woman</td>\n",
       "      <td>False</td>\n",
       "      <td>NaN</td>\n",
       "      <td>Southampton</td>\n",
       "      <td>yes</td>\n",
       "      <td>True</td>\n",
       "    </tr>\n",
       "    <tr>\n",
       "      <th>3</th>\n",
       "      <td>1</td>\n",
       "      <td>1</td>\n",
       "      <td>female</td>\n",
       "      <td>35.0</td>\n",
       "      <td>1</td>\n",
       "      <td>0</td>\n",
       "      <td>53.1000</td>\n",
       "      <td>S</td>\n",
       "      <td>First</td>\n",
       "      <td>woman</td>\n",
       "      <td>False</td>\n",
       "      <td>C</td>\n",
       "      <td>Southampton</td>\n",
       "      <td>yes</td>\n",
       "      <td>False</td>\n",
       "    </tr>\n",
       "    <tr>\n",
       "      <th>4</th>\n",
       "      <td>0</td>\n",
       "      <td>3</td>\n",
       "      <td>male</td>\n",
       "      <td>35.0</td>\n",
       "      <td>0</td>\n",
       "      <td>0</td>\n",
       "      <td>8.0500</td>\n",
       "      <td>S</td>\n",
       "      <td>Third</td>\n",
       "      <td>man</td>\n",
       "      <td>True</td>\n",
       "      <td>NaN</td>\n",
       "      <td>Southampton</td>\n",
       "      <td>no</td>\n",
       "      <td>True</td>\n",
       "    </tr>\n",
       "  </tbody>\n",
       "</table>\n",
       "</div>"
      ],
      "text/plain": [
       "   survived  pclass     sex   age  sibsp  parch     fare embarked  class  \\\n",
       "0         0       3    male  22.0      1      0   7.2500        S  Third   \n",
       "1         1       1  female  38.0      1      0  71.2833        C  First   \n",
       "2         1       3  female  26.0      0      0   7.9250        S  Third   \n",
       "3         1       1  female  35.0      1      0  53.1000        S  First   \n",
       "4         0       3    male  35.0      0      0   8.0500        S  Third   \n",
       "\n",
       "     who  adult_male deck  embark_town alive  alone  \n",
       "0    man        True  NaN  Southampton    no  False  \n",
       "1  woman       False    C    Cherbourg   yes  False  \n",
       "2  woman       False  NaN  Southampton   yes   True  \n",
       "3  woman       False    C  Southampton   yes  False  \n",
       "4    man        True  NaN  Southampton    no   True  "
      ]
     },
     "execution_count": 174,
     "metadata": {},
     "output_type": "execute_result"
    }
   ],
   "source": [
    "titanic.head()"
   ]
  },
  {
   "cell_type": "code",
   "execution_count": 175,
   "metadata": {},
   "outputs": [
    {
     "data": {
      "text/html": [
       "<div>\n",
       "<style scoped>\n",
       "    .dataframe tbody tr th:only-of-type {\n",
       "        vertical-align: middle;\n",
       "    }\n",
       "\n",
       "    .dataframe tbody tr th {\n",
       "        vertical-align: top;\n",
       "    }\n",
       "\n",
       "    .dataframe thead th {\n",
       "        text-align: right;\n",
       "    }\n",
       "</style>\n",
       "<table border=\"1\" class=\"dataframe\">\n",
       "  <thead>\n",
       "    <tr style=\"text-align: right;\">\n",
       "      <th></th>\n",
       "      <th>survived</th>\n",
       "      <th>pclass</th>\n",
       "      <th>sex</th>\n",
       "      <th>age</th>\n",
       "      <th>sibsp</th>\n",
       "      <th>parch</th>\n",
       "      <th>fare</th>\n",
       "      <th>embarked</th>\n",
       "      <th>class</th>\n",
       "      <th>who</th>\n",
       "      <th>adult_male</th>\n",
       "      <th>deck</th>\n",
       "      <th>embark_town</th>\n",
       "      <th>alive</th>\n",
       "      <th>alone</th>\n",
       "    </tr>\n",
       "  </thead>\n",
       "  <tbody>\n",
       "    <tr>\n",
       "      <th>0</th>\n",
       "      <td>0</td>\n",
       "      <td>3</td>\n",
       "      <td>1</td>\n",
       "      <td>22.0</td>\n",
       "      <td>1</td>\n",
       "      <td>0</td>\n",
       "      <td>7.2500</td>\n",
       "      <td>1.0</td>\n",
       "      <td>3</td>\n",
       "      <td>man</td>\n",
       "      <td>True</td>\n",
       "      <td>NaN</td>\n",
       "      <td>Southampton</td>\n",
       "      <td>no</td>\n",
       "      <td>False</td>\n",
       "    </tr>\n",
       "    <tr>\n",
       "      <th>1</th>\n",
       "      <td>1</td>\n",
       "      <td>1</td>\n",
       "      <td>0</td>\n",
       "      <td>38.0</td>\n",
       "      <td>1</td>\n",
       "      <td>0</td>\n",
       "      <td>71.2833</td>\n",
       "      <td>2.0</td>\n",
       "      <td>1</td>\n",
       "      <td>woman</td>\n",
       "      <td>False</td>\n",
       "      <td>3</td>\n",
       "      <td>Cherbourg</td>\n",
       "      <td>yes</td>\n",
       "      <td>False</td>\n",
       "    </tr>\n",
       "    <tr>\n",
       "      <th>2</th>\n",
       "      <td>1</td>\n",
       "      <td>3</td>\n",
       "      <td>0</td>\n",
       "      <td>26.0</td>\n",
       "      <td>0</td>\n",
       "      <td>0</td>\n",
       "      <td>7.9250</td>\n",
       "      <td>1.0</td>\n",
       "      <td>3</td>\n",
       "      <td>woman</td>\n",
       "      <td>False</td>\n",
       "      <td>NaN</td>\n",
       "      <td>Southampton</td>\n",
       "      <td>yes</td>\n",
       "      <td>True</td>\n",
       "    </tr>\n",
       "    <tr>\n",
       "      <th>3</th>\n",
       "      <td>1</td>\n",
       "      <td>1</td>\n",
       "      <td>0</td>\n",
       "      <td>35.0</td>\n",
       "      <td>1</td>\n",
       "      <td>0</td>\n",
       "      <td>53.1000</td>\n",
       "      <td>1.0</td>\n",
       "      <td>1</td>\n",
       "      <td>woman</td>\n",
       "      <td>False</td>\n",
       "      <td>3</td>\n",
       "      <td>Southampton</td>\n",
       "      <td>yes</td>\n",
       "      <td>False</td>\n",
       "    </tr>\n",
       "    <tr>\n",
       "      <th>4</th>\n",
       "      <td>0</td>\n",
       "      <td>3</td>\n",
       "      <td>1</td>\n",
       "      <td>35.0</td>\n",
       "      <td>0</td>\n",
       "      <td>0</td>\n",
       "      <td>8.0500</td>\n",
       "      <td>1.0</td>\n",
       "      <td>3</td>\n",
       "      <td>man</td>\n",
       "      <td>True</td>\n",
       "      <td>NaN</td>\n",
       "      <td>Southampton</td>\n",
       "      <td>no</td>\n",
       "      <td>True</td>\n",
       "    </tr>\n",
       "  </tbody>\n",
       "</table>\n",
       "</div>"
      ],
      "text/plain": [
       "   survived  pclass  sex   age  sibsp  parch     fare  embarked class    who  \\\n",
       "0         0       3    1  22.0      1      0   7.2500       1.0     3    man   \n",
       "1         1       1    0  38.0      1      0  71.2833       2.0     1  woman   \n",
       "2         1       3    0  26.0      0      0   7.9250       1.0     3  woman   \n",
       "3         1       1    0  35.0      1      0  53.1000       1.0     1  woman   \n",
       "4         0       3    1  35.0      0      0   8.0500       1.0     3    man   \n",
       "\n",
       "   adult_male deck  embark_town alive  alone  \n",
       "0        True  NaN  Southampton    no  False  \n",
       "1       False    3    Cherbourg   yes  False  \n",
       "2       False  NaN  Southampton   yes   True  \n",
       "3       False    3  Southampton   yes  False  \n",
       "4        True  NaN  Southampton    no   True  "
      ]
     },
     "execution_count": 175,
     "metadata": {},
     "output_type": "execute_result"
    }
   ],
   "source": [
    "sex_cat = {\"sex\" : {\"male\" : 1, \"female\" : 0},\n",
    "            \"class\" : {\"First\" : 1, \"Second\" : 2, \"Third\" : 3},\n",
    "            \"alone\" : {\"True\": 1, \"False\" : 0},\n",
    "            \"embarked\" : {\"S\" : 1, \"C\" : 2, \"Q\" : 3},\n",
    "            \"deck\" : {\"A\" : 1, \"B\" : 2, \"C\" : 3, \"D\" : 4, \"E\" : 5, \"F\" : 6, \"G\" : 7}}\n",
    "df = titanic.replace(sex_cat)\n",
    "df.head()"
   ]
  },
  {
   "cell_type": "code",
   "execution_count": 176,
   "metadata": {},
   "outputs": [
    {
     "data": {
      "text/plain": [
       "(891,)"
      ]
     },
     "execution_count": 176,
     "metadata": {},
     "output_type": "execute_result"
    }
   ],
   "source": [
    "y_titanic = df['survived']\n",
    "y_titanic.shape"
   ]
  },
  {
   "cell_type": "code",
   "execution_count": 177,
   "metadata": {},
   "outputs": [
    {
     "data": {
      "text/plain": [
       "(891, 8)"
      ]
     },
     "execution_count": 177,
     "metadata": {},
     "output_type": "execute_result"
    }
   ],
   "source": [
    "x_titanic = df[[\"pclass\", \"sex\", \"age\", \"fare\", \"sibsp\", \"parch\", \"embarked\", \"deck\"]]\n",
    "x_titanic.shape"
   ]
  },
  {
   "cell_type": "code",
   "execution_count": 178,
   "metadata": {},
   "outputs": [],
   "source": [
    "x_titanic_train, x_titanic_test, y_titanic_train, y_titanic_test = train_test_split(x_titanic, y_titanic, test_size = 0.2, random_state = 23)"
   ]
  },
  {
   "cell_type": "code",
   "execution_count": 179,
   "metadata": {},
   "outputs": [
    {
     "data": {
      "text/plain": [
       "(712, 8)"
      ]
     },
     "execution_count": 179,
     "metadata": {},
     "output_type": "execute_result"
    }
   ],
   "source": [
    "x_titanic_train.shape"
   ]
  },
  {
   "cell_type": "code",
   "execution_count": 180,
   "metadata": {},
   "outputs": [
    {
     "data": {
      "text/plain": [
       "(179, 8)"
      ]
     },
     "execution_count": 180,
     "metadata": {},
     "output_type": "execute_result"
    }
   ],
   "source": [
    "x_titanic_test.shape"
   ]
  },
  {
   "cell_type": "code",
   "execution_count": 181,
   "metadata": {},
   "outputs": [
    {
     "data": {
      "text/plain": [
       "(712,)"
      ]
     },
     "execution_count": 181,
     "metadata": {},
     "output_type": "execute_result"
    }
   ],
   "source": [
    "y_titanic_train.shape"
   ]
  },
  {
   "cell_type": "code",
   "execution_count": 187,
   "metadata": {},
   "outputs": [],
   "source": [
    "model = Sequential()\n",
    "\n",
    "#hidden layers\n",
    "model.add(Dense(10, activation = 'relu', input_shape = (8,)))\n",
    "model.add(Dense(10, activation = 'relu'))\n",
    "\n",
    "#output layer\n",
    "model.add(Dense(1, activation = 'sigmoid'))"
   ]
  },
  {
   "cell_type": "code",
   "execution_count": 188,
   "metadata": {},
   "outputs": [
    {
     "name": "stdout",
     "output_type": "stream",
     "text": [
      "Model: \"sequential_24\"\n",
      "_________________________________________________________________\n",
      " Layer (type)                Output Shape              Param #   \n",
      "=================================================================\n",
      " dense_62 (Dense)            (None, 10)                90        \n",
      "                                                                 \n",
      " dense_63 (Dense)            (None, 10)                110       \n",
      "                                                                 \n",
      " dense_64 (Dense)            (None, 1)                 11        \n",
      "                                                                 \n",
      "=================================================================\n",
      "Total params: 211\n",
      "Trainable params: 211\n",
      "Non-trainable params: 0\n",
      "_________________________________________________________________\n"
     ]
    }
   ],
   "source": [
    "model.summary()"
   ]
  },
  {
   "cell_type": "code",
   "execution_count": 189,
   "metadata": {
    "scrolled": true
   },
   "outputs": [],
   "source": [
    "model.compile(loss = 'binary_crossentropy', optimizer = 'adam', metrics = ['accuracy'])\n",
    "history = model.fit(x_titanic_train, y_titanic_train, epochs = 350, verbose = 0, validation_data = (x_titanic_test, y_titanic_test))"
   ]
  },
  {
   "cell_type": "code",
   "execution_count": 190,
   "metadata": {},
   "outputs": [
    {
     "data": {
      "text/plain": [
       "[<matplotlib.lines.Line2D at 0x1b48a2b6dc0>]"
      ]
     },
     "execution_count": 190,
     "metadata": {},
     "output_type": "execute_result"
    },
    {
     "data": {
      "image/png": "[encoded data removed]",
      "text/plain": [
       "<Figure size 432x288 with 1 Axes>"
      ]
     },
     "metadata": {
      "needs_background": "light"
     },
     "output_type": "display_data"
    }
   ],
   "source": [
    "plt.plot(history.history['accuracy'])"
   ]
  },
  {
   "cell_type": "code",
   "execution_count": 191,
   "metadata": {},
   "outputs": [
    {
     "name": "stdout",
     "output_type": "stream",
     "text": [
      "6/6 [==============================] - 0s 601us/step - loss: nan - accuracy: 0.6425\n"
     ]
    },
    {
     "data": {
      "text/plain": [
       "[nan, 0.6424580812454224]"
      ]
     },
     "execution_count": 191,
     "metadata": {},
     "output_type": "execute_result"
    }
   ],
   "source": [
    "model.evaluate(x_titanic_test, y_titanic_test)"
   ]
  },
  {
   "cell_type": "markdown",
   "metadata": {},
   "source": [
    "During model training we would like to see how the correctness of the test data changes with training.\n",
    "We can do this by giving an additional argument of `validation_data` and setting it to `(X_test_std, y_test)`:"
   ]
  },
  {
   "cell_type": "markdown",
   "metadata": {},
   "source": [
    "As in the case of previous algorithms, in the case of neural networks we are also dealing with hyperparameters. The most obvious hyperparameters of neural networks are: \n",
    "- the number of layers, \n",
    "- number of neurons in each layer,\n",
    "- activation types,\n",
    "- regularization (regular or dropout - but we will talk about it later), \n",
    "- finally: matching algorithm, learning rate (how big steps in the searched parameter space are performed) and others. \n",
    "\n",
    "We won't learn how to match hyperparameters for the network (apart from choosing the number of layers and neurons), but it's worth remembering that there is such a possibility. Professional applications of neural networks usually perform tests on many lists of hyperparameters (especially those hyperparameters that are not network architectures)."
   ]
  }
 ],
 "metadata": {
  "kernelspec": {
   "display_name": "Python 3 (ipykernel)",
   "language": "python",
   "name": "python3"
  },
  "language_info": {
   "codemirror_mode": {
    "name": "ipython",
    "version": 3
   },
   "file_extension": ".py",
   "mimetype": "text/x-python",
   "name": "python",
   "nbconvert_exporter": "python",
   "pygments_lexer": "ipython3",
   "version": "3.9.7"
  }
 },
 "nbformat": 4,
 "nbformat_minor": 2
}
